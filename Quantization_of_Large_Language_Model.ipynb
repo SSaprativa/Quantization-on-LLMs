{
  "nbformat": 4,
  "nbformat_minor": 0,
  "metadata": {
    "colab": {
      "provenance": []
    },
    "kernelspec": {
      "name": "python3",
      "display_name": "Python 3"
    },
    "language_info": {
      "name": "python"
    }
  },
  "cells": [
    {
      "cell_type": "code",
      "execution_count": 1,
      "metadata": {
        "id": "WBWEXb18eUv_"
      },
      "outputs": [],
      "source": [
        "import torch"
      ]
    },
    {
      "cell_type": "markdown",
      "source": [
        "### Quantization with Random Scale and Zero point"
      ],
      "metadata": {
        "id": "s3pMR7HhfBbw"
      }
    },
    {
      "cell_type": "code",
      "source": [
        "def linear_q_with_scale_and_zero_point(\n",
        "    tensor, scale, zero_point, dtype = torch.int8):\n",
        "\n",
        "    scaled_and_shifted_tensor = tensor / scale + zero_point ## linear quantion r = s(q-z) => q = (r/s)+z\n",
        "\n",
        "    rounded_tensor = torch.round(scaled_and_shifted_tensor)\n",
        "\n",
        "    q_min = torch.iinfo(dtype).min\n",
        "    q_max = torch.iinfo(dtype).max\n",
        "\n",
        "    q_tensor = rounded_tensor.clamp(q_min,q_max).to(dtype)\n",
        "\n",
        "    return q_tensor"
      ],
      "metadata": {
        "id": "BxHIzXVjeg5v"
      },
      "execution_count": 2,
      "outputs": []
    },
    {
      "cell_type": "code",
      "source": [
        "## example\n",
        "test_tensor=torch.tensor(\n",
        "    [[191.6, -13.5, 728.6],\n",
        "     [92.14, 295.5,  -184],\n",
        "     [0,     684.6, 245.5]]\n",
        ")"
      ],
      "metadata": {
        "id": "afzjPRglfbgU"
      },
      "execution_count": 3,
      "outputs": []
    },
    {
      "cell_type": "code",
      "source": [
        "## randomly selected scale and zero point\n",
        "scale = 3.5\n",
        "zero_point = -70"
      ],
      "metadata": {
        "id": "4j3RyFcVfkpc"
      },
      "execution_count": 4,
      "outputs": []
    },
    {
      "cell_type": "code",
      "source": [
        "quantized_tensor = linear_q_with_scale_and_zero_point(\n",
        "    test_tensor, scale, zero_point)"
      ],
      "metadata": {
        "id": "ZV3LMAyKfxWK"
      },
      "execution_count": 5,
      "outputs": []
    },
    {
      "cell_type": "code",
      "source": [
        "quantized_tensor"
      ],
      "metadata": {
        "colab": {
          "base_uri": "https://localhost:8080/"
        },
        "id": "yRMfXU7sf4Vu",
        "outputId": "c8a25daf-9d46-46b9-9149-0daa099dba05"
      },
      "execution_count": 6,
      "outputs": [
        {
          "output_type": "execute_result",
          "data": {
            "text/plain": [
              "tensor([[ -15,  -74,  127],\n",
              "        [ -44,   14, -123],\n",
              "        [ -70,  126,    0]], dtype=torch.int8)"
            ]
          },
          "metadata": {},
          "execution_count": 6
        }
      ]
    },
    {
      "cell_type": "markdown",
      "source": [
        "### Dequantization with Random scale and Zero point"
      ],
      "metadata": {
        "id": "75QIp9D-gLQD"
      }
    },
    {
      "cell_type": "code",
      "source": [
        "## r = s(q-z)\n",
        "def linear_dequantization(quantized_tensor, scale, zero_point):\n",
        "    return scale * (quantized_tensor.float() - zero_point)"
      ],
      "metadata": {
        "id": "Gy1R3JMXf-Q2"
      },
      "execution_count": 9,
      "outputs": []
    },
    {
      "cell_type": "code",
      "source": [
        "dequantized_tensor = linear_dequantization(\n",
        "    quantized_tensor, scale, zero_point)"
      ],
      "metadata": {
        "id": "CUK27yOegjgf"
      },
      "execution_count": 10,
      "outputs": []
    },
    {
      "cell_type": "code",
      "source": [
        "dequantized_tensor"
      ],
      "metadata": {
        "colab": {
          "base_uri": "https://localhost:8080/"
        },
        "id": "holaUWM5gmNl",
        "outputId": "8c65fdd3-fb7a-4adb-f9e6-222eb56f8c5f"
      },
      "execution_count": 11,
      "outputs": [
        {
          "output_type": "execute_result",
          "data": {
            "text/plain": [
              "tensor([[ 192.5000,  -14.0000,  689.5000],\n",
              "        [  91.0000,  294.0000, -185.5000],\n",
              "        [   0.0000,  686.0000,  245.0000]])"
            ]
          },
          "metadata": {},
          "execution_count": 11
        }
      ]
    },
    {
      "cell_type": "markdown",
      "source": [
        "### Quantization error"
      ],
      "metadata": {
        "id": "NUQF00N6hdLN"
      }
    },
    {
      "cell_type": "code",
      "source": [
        "dequantized_tensor - test_tensor"
      ],
      "metadata": {
        "colab": {
          "base_uri": "https://localhost:8080/"
        },
        "id": "wQzU-znIg6dy",
        "outputId": "fb325c4e-dd3a-4850-d645-9bd48f4dc0d7"
      },
      "execution_count": 13,
      "outputs": [
        {
          "output_type": "execute_result",
          "data": {
            "text/plain": [
              "tensor([[  0.9000,  -0.5000, -39.1000],\n",
              "        [ -1.1400,  -1.5000,  -1.5000],\n",
              "        [  0.0000,   1.4000,  -0.5000]])"
            ]
          },
          "metadata": {},
          "execution_count": 13
        }
      ]
    },
    {
      "cell_type": "code",
      "source": [
        "(dequantized_tensor - test_tensor).square()"
      ],
      "metadata": {
        "colab": {
          "base_uri": "https://localhost:8080/"
        },
        "id": "4JntMO8Qho0K",
        "outputId": "a961c8fe-68ea-4499-b361-0bbdfb5d0145"
      },
      "execution_count": 14,
      "outputs": [
        {
          "output_type": "execute_result",
          "data": {
            "text/plain": [
              "tensor([[8.0999e-01, 2.5000e-01, 1.5288e+03],\n",
              "        [1.2996e+00, 2.2500e+00, 2.2500e+00],\n",
              "        [0.0000e+00, 1.9601e+00, 2.5000e-01]])"
            ]
          },
          "metadata": {},
          "execution_count": 14
        }
      ]
    },
    {
      "cell_type": "code",
      "source": [
        "(dequantized_tensor - test_tensor).square().mean()"
      ],
      "metadata": {
        "colab": {
          "base_uri": "https://localhost:8080/"
        },
        "id": "3FnwXwafiGUg",
        "outputId": "f816f591-df19-4500-a5c7-1038aa045a12"
      },
      "execution_count": 15,
      "outputs": [
        {
          "output_type": "execute_result",
          "data": {
            "text/plain": [
              "tensor(170.8753)"
            ]
          },
          "metadata": {},
          "execution_count": 15
        }
      ]
    },
    {
      "cell_type": "markdown",
      "source": [
        "### Getting Scale and Zero point"
      ],
      "metadata": {
        "id": "E-WKH8Qjissx"
      }
    },
    {
      "cell_type": "code",
      "source": [
        "q_min = torch.iinfo(torch.int8).min\n",
        "q_max = torch.iinfo(torch.int8).max"
      ],
      "metadata": {
        "id": "atEAAQSJiJC9"
      },
      "execution_count": 16,
      "outputs": []
    },
    {
      "cell_type": "code",
      "source": [
        "q_min"
      ],
      "metadata": {
        "colab": {
          "base_uri": "https://localhost:8080/"
        },
        "id": "CkvGPEjmi6NW",
        "outputId": "d7e620e1-9042-42ea-c791-258ec1944ca2"
      },
      "execution_count": 17,
      "outputs": [
        {
          "output_type": "execute_result",
          "data": {
            "text/plain": [
              "-128"
            ]
          },
          "metadata": {},
          "execution_count": 17
        }
      ]
    },
    {
      "cell_type": "code",
      "source": [
        "q_max"
      ],
      "metadata": {
        "colab": {
          "base_uri": "https://localhost:8080/"
        },
        "id": "xpBGUkDyi7aW",
        "outputId": "95d080d1-a84b-4ff7-c057-0b1846bde1c1"
      },
      "execution_count": 18,
      "outputs": [
        {
          "output_type": "execute_result",
          "data": {
            "text/plain": [
              "127"
            ]
          },
          "metadata": {},
          "execution_count": 18
        }
      ]
    },
    {
      "cell_type": "code",
      "source": [
        "r_min = test_tensor.min().item()\n",
        "r_max = test_tensor.max().item()"
      ],
      "metadata": {
        "id": "Z4pAVr5zi8_A"
      },
      "execution_count": 21,
      "outputs": []
    },
    {
      "cell_type": "code",
      "source": [
        "r_min"
      ],
      "metadata": {
        "colab": {
          "base_uri": "https://localhost:8080/"
        },
        "id": "aHPQKbefjDYR",
        "outputId": "c7b2070d-1b36-4ff6-f1a9-19f0b3028cca"
      },
      "execution_count": 22,
      "outputs": [
        {
          "output_type": "execute_result",
          "data": {
            "text/plain": [
              "-184.0"
            ]
          },
          "metadata": {},
          "execution_count": 22
        }
      ]
    },
    {
      "cell_type": "code",
      "source": [
        "r_max"
      ],
      "metadata": {
        "colab": {
          "base_uri": "https://localhost:8080/"
        },
        "id": "TP-AH_7FjE9o",
        "outputId": "9dedc49f-3779-48b1-8fbf-f9903576f380"
      },
      "execution_count": 23,
      "outputs": [
        {
          "output_type": "execute_result",
          "data": {
            "text/plain": [
              "728.5999755859375"
            ]
          },
          "metadata": {},
          "execution_count": 23
        }
      ]
    },
    {
      "cell_type": "code",
      "source": [
        "scale = (r_max - r_min) / (q_max - q_min)"
      ],
      "metadata": {
        "id": "Y_8fvhbhjJr3"
      },
      "execution_count": 24,
      "outputs": []
    },
    {
      "cell_type": "code",
      "source": [
        "zero_point = q_min - (r_min / scale)"
      ],
      "metadata": {
        "id": "31WCfWw4jOgh"
      },
      "execution_count": 25,
      "outputs": []
    },
    {
      "cell_type": "code",
      "source": [
        "scale"
      ],
      "metadata": {
        "colab": {
          "base_uri": "https://localhost:8080/"
        },
        "id": "B1FgkzhdjRdk",
        "outputId": "ce9a25db-c691-4fd6-ed6e-9e26d6737a18"
      },
      "execution_count": 26,
      "outputs": [
        {
          "output_type": "execute_result",
          "data": {
            "text/plain": [
              "3.578823433670343"
            ]
          },
          "metadata": {},
          "execution_count": 26
        }
      ]
    },
    {
      "cell_type": "code",
      "source": [
        "zero_point"
      ],
      "metadata": {
        "colab": {
          "base_uri": "https://localhost:8080/"
        },
        "id": "W2txlq40jSq7",
        "outputId": "a99935c7-0f0e-49f8-ecd8-221ccef22bc8"
      },
      "execution_count": 27,
      "outputs": [
        {
          "output_type": "execute_result",
          "data": {
            "text/plain": [
              "-76.58645490333825"
            ]
          },
          "metadata": {},
          "execution_count": 27
        }
      ]
    },
    {
      "cell_type": "code",
      "source": [
        "zero_point = int(round(zero_point))"
      ],
      "metadata": {
        "id": "U8VXMV9xjUc8"
      },
      "execution_count": 28,
      "outputs": []
    },
    {
      "cell_type": "code",
      "source": [
        "zero_point"
      ],
      "metadata": {
        "colab": {
          "base_uri": "https://localhost:8080/"
        },
        "id": "hflFvAxmjYFw",
        "outputId": "f609b022-294a-4018-96bc-d683291bc13f"
      },
      "execution_count": 29,
      "outputs": [
        {
          "output_type": "execute_result",
          "data": {
            "text/plain": [
              "-77"
            ]
          },
          "metadata": {},
          "execution_count": 29
        }
      ]
    },
    {
      "cell_type": "code",
      "source": [
        "def get_q_scale_and_zero_point(tensor, dtype=torch.int8):\n",
        "\n",
        "    q_min, q_max = torch.iinfo(dtype).min, torch.iinfo(dtype).max\n",
        "    r_min, r_max = tensor.min().item(), tensor.max().item()\n",
        "\n",
        "    scale = (r_max - r_min) / (q_max - q_min)\n",
        "\n",
        "    zero_point = q_min - (r_min / scale)\n",
        "\n",
        "    ## for the zero point out of range\n",
        "    if zero_point < q_min:\n",
        "        zero_point = q_min\n",
        "    elif zero_point > q_max:\n",
        "        zero_point = q_max\n",
        "    else:\n",
        "        zero_point = int(round(zero_point))\n",
        "\n",
        "    return scale, zero_point"
      ],
      "metadata": {
        "id": "LWE118UujcJ_"
      },
      "execution_count": 30,
      "outputs": []
    },
    {
      "cell_type": "code",
      "source": [
        "new_scale, new_zero_point = get_q_scale_and_zero_point(\n",
        "    test_tensor)"
      ],
      "metadata": {
        "id": "qa6dxnZjkCnM"
      },
      "execution_count": 31,
      "outputs": []
    },
    {
      "cell_type": "code",
      "source": [
        "new_scale"
      ],
      "metadata": {
        "colab": {
          "base_uri": "https://localhost:8080/"
        },
        "id": "Gu0IshLDkGLT",
        "outputId": "e03a0051-ac6e-4e1e-e198-a6157eaf754e"
      },
      "execution_count": 32,
      "outputs": [
        {
          "output_type": "execute_result",
          "data": {
            "text/plain": [
              "3.578823433670343"
            ]
          },
          "metadata": {},
          "execution_count": 32
        }
      ]
    },
    {
      "cell_type": "code",
      "source": [
        "new_zero_point"
      ],
      "metadata": {
        "colab": {
          "base_uri": "https://localhost:8080/"
        },
        "id": "YpfnhHfAkI56",
        "outputId": "8cf4d9e9-b73b-4051-ec7f-08ebc57bd20c"
      },
      "execution_count": 33,
      "outputs": [
        {
          "output_type": "execute_result",
          "data": {
            "text/plain": [
              "-77"
            ]
          },
          "metadata": {},
          "execution_count": 33
        }
      ]
    },
    {
      "cell_type": "code",
      "source": [
        "quantized_tensor = linear_q_with_scale_and_zero_point(\n",
        "    test_tensor, new_scale, new_zero_point)"
      ],
      "metadata": {
        "id": "JzGhwh_SkKxK"
      },
      "execution_count": 34,
      "outputs": []
    },
    {
      "cell_type": "code",
      "source": [
        "dequantized_tensor = linear_dequantization(quantized_tensor,\n",
        "                                           new_scale, new_zero_point)"
      ],
      "metadata": {
        "id": "G4c5qzVGkPy5"
      },
      "execution_count": 35,
      "outputs": []
    },
    {
      "cell_type": "code",
      "source": [
        "(dequantized_tensor-test_tensor).square().mean()"
      ],
      "metadata": {
        "colab": {
          "base_uri": "https://localhost:8080/"
        },
        "id": "sRbhcqqHkS7J",
        "outputId": "dfd850b3-32df-4ed1-e881-91c07abca056"
      },
      "execution_count": 36,
      "outputs": [
        {
          "output_type": "execute_result",
          "data": {
            "text/plain": [
              "tensor(1.5730)"
            ]
          },
          "metadata": {},
          "execution_count": 36
        }
      ]
    },
    {
      "cell_type": "code",
      "source": [
        "def linear_quantization(tensor, dtype=torch.int8):\n",
        "    scale, zero_point = get_q_scale_and_zero_point(tensor,\n",
        "                                                   dtype=dtype)\n",
        "\n",
        "    quantized_tensor = linear_q_with_scale_and_zero_point(tensor,\n",
        "                                                          scale,\n",
        "                                                          zero_point,\n",
        "                                                          dtype=dtype)\n",
        "\n",
        "    return quantized_tensor, scale , zero_point"
      ],
      "metadata": {
        "id": "g5CZz242kaBo"
      },
      "execution_count": 37,
      "outputs": []
    },
    {
      "cell_type": "code",
      "source": [
        "r_tensor = torch.randn((4, 4))"
      ],
      "metadata": {
        "id": "wJiuewnbkwkL"
      },
      "execution_count": 38,
      "outputs": []
    },
    {
      "cell_type": "code",
      "source": [
        "r_tensor"
      ],
      "metadata": {
        "colab": {
          "base_uri": "https://localhost:8080/"
        },
        "id": "VyumQH9Wk1mk",
        "outputId": "093c913c-9eaf-42c5-c74e-d5d519b1eeb2"
      },
      "execution_count": 39,
      "outputs": [
        {
          "output_type": "execute_result",
          "data": {
            "text/plain": [
              "tensor([[ 0.2098,  1.2369, -1.2385, -1.7775],\n",
              "        [-1.5253,  0.5834,  0.4669, -0.3304],\n",
              "        [-0.9849,  0.5451, -0.2857, -0.9546],\n",
              "        [ 0.8311, -1.2696,  0.6569,  1.7952]])"
            ]
          },
          "metadata": {},
          "execution_count": 39
        }
      ]
    },
    {
      "cell_type": "code",
      "source": [
        "quantized_tensor, scale, zero_point = linear_quantization(r_tensor)"
      ],
      "metadata": {
        "id": "WPtG4U1Kk3du"
      },
      "execution_count": 41,
      "outputs": []
    },
    {
      "cell_type": "code",
      "source": [
        "scale"
      ],
      "metadata": {
        "colab": {
          "base_uri": "https://localhost:8080/"
        },
        "id": "8akjdvsYlQV2",
        "outputId": "e50783ca-1163-4e34-e61f-a24296cb1ba4"
      },
      "execution_count": 42,
      "outputs": [
        {
          "output_type": "execute_result",
          "data": {
            "text/plain": [
              "0.014010466313829609"
            ]
          },
          "metadata": {},
          "execution_count": 42
        }
      ]
    },
    {
      "cell_type": "code",
      "source": [
        "zero_point"
      ],
      "metadata": {
        "colab": {
          "base_uri": "https://localhost:8080/"
        },
        "id": "xPk03QFulVqz",
        "outputId": "1a1338af-cf9f-487d-f9d2-80b05a272ea7"
      },
      "execution_count": 43,
      "outputs": [
        {
          "output_type": "execute_result",
          "data": {
            "text/plain": [
              "-1"
            ]
          },
          "metadata": {},
          "execution_count": 43
        }
      ]
    },
    {
      "cell_type": "code",
      "source": [
        "quantized_tensor"
      ],
      "metadata": {
        "colab": {
          "base_uri": "https://localhost:8080/"
        },
        "id": "wV-Rw0sIlX3Z",
        "outputId": "50198607-0ab6-4975-f1f3-dc3367c877c3"
      },
      "execution_count": 44,
      "outputs": [
        {
          "output_type": "execute_result",
          "data": {
            "text/plain": [
              "tensor([[  14,   87,  -89, -128],\n",
              "        [-110,   41,   32,  -25],\n",
              "        [ -71,   38,  -21,  -69],\n",
              "        [  58,  -92,   46,  127]], dtype=torch.int8)"
            ]
          },
          "metadata": {},
          "execution_count": 44
        }
      ]
    },
    {
      "cell_type": "code",
      "source": [
        "dequantized_tensor = linear_dequantization(quantized_tensor,\n",
        "                                           scale, zero_point)"
      ],
      "metadata": {
        "id": "ad6-O5_blZjD"
      },
      "execution_count": 45,
      "outputs": []
    },
    {
      "cell_type": "code",
      "source": [
        "(dequantized_tensor-r_tensor).square().mean()"
      ],
      "metadata": {
        "colab": {
          "base_uri": "https://localhost:8080/"
        },
        "id": "jmrffSRLlflw",
        "outputId": "42dadd20-c7aa-4675-a98d-ce4c1c2be12e"
      },
      "execution_count": 46,
      "outputs": [
        {
          "output_type": "execute_result",
          "data": {
            "text/plain": [
              "tensor(1.5046e-05)"
            ]
          },
          "metadata": {},
          "execution_count": 46
        }
      ]
    },
    {
      "cell_type": "markdown",
      "source": [
        "### Linear Quantization : Symmetric Mode"
      ],
      "metadata": {
        "id": "TfYIgKBcl6st"
      }
    },
    {
      "cell_type": "code",
      "source": [
        "## [-r_max,r_max]--->[-q_max,q_max]\n",
        "def get_q_scale_symmetric(tensor, dtype=torch.int8):\n",
        "    r_max = tensor.abs().max().item()\n",
        "    q_max = torch.iinfo(dtype).max\n",
        "\n",
        "    return r_max/q_max ## s = r_max/q_max"
      ],
      "metadata": {
        "id": "8O6Z1GSNlnHH"
      },
      "execution_count": 47,
      "outputs": []
    },
    {
      "cell_type": "code",
      "source": [
        "test_tensor = torch.randn((4, 4))"
      ],
      "metadata": {
        "id": "IM-Lk1YxnmLR"
      },
      "execution_count": 48,
      "outputs": []
    },
    {
      "cell_type": "code",
      "source": [
        "test_tensor"
      ],
      "metadata": {
        "colab": {
          "base_uri": "https://localhost:8080/"
        },
        "id": "_mPiboKJnrlR",
        "outputId": "5bc3c4fd-816a-4abe-ce6e-fbcdef96814c"
      },
      "execution_count": 49,
      "outputs": [
        {
          "output_type": "execute_result",
          "data": {
            "text/plain": [
              "tensor([[-2.2265,  0.2409,  1.0324, -0.5506],\n",
              "        [-0.4014, -0.9915,  0.7110, -0.2541],\n",
              "        [-0.9055, -0.2417, -1.0889, -1.0305],\n",
              "        [ 0.0103,  0.4765,  1.8184,  1.2104]])"
            ]
          },
          "metadata": {},
          "execution_count": 49
        }
      ]
    },
    {
      "cell_type": "code",
      "source": [
        "get_q_scale_symmetric(test_tensor)"
      ],
      "metadata": {
        "colab": {
          "base_uri": "https://localhost:8080/"
        },
        "id": "l7DUdJoOoC4i",
        "outputId": "874274b8-a25e-4140-e9e7-dda9096e9e54"
      },
      "execution_count": 50,
      "outputs": [
        {
          "output_type": "execute_result",
          "data": {
            "text/plain": [
              "0.01753173287459246"
            ]
          },
          "metadata": {},
          "execution_count": 50
        }
      ]
    },
    {
      "cell_type": "code",
      "source": [
        "def linear_q_symmetric(tensor, dtype=torch.int8):\n",
        "    scale = get_q_scale_symmetric(tensor)\n",
        "\n",
        "    ## in symmetric quantization zero point is = 0\n",
        "    quantized_tensor = linear_q_with_scale_and_zero_point(tensor,\n",
        "                                                     scale=scale,\n",
        "                                                    zero_point=0,\n",
        "                                                      dtype=dtype)\n",
        "\n",
        "    return quantized_tensor, scale"
      ],
      "metadata": {
        "id": "IgAglAvooGhe"
      },
      "execution_count": 51,
      "outputs": []
    },
    {
      "cell_type": "code",
      "source": [
        "quantized_tensor, scale = linear_q_symmetric(test_tensor)"
      ],
      "metadata": {
        "id": "Ca7wKSItorEo"
      },
      "execution_count": 52,
      "outputs": []
    },
    {
      "cell_type": "code",
      "source": [
        "quantized_tensor"
      ],
      "metadata": {
        "colab": {
          "base_uri": "https://localhost:8080/"
        },
        "id": "s3cpoOb6ouRu",
        "outputId": "f92ea747-7070-4ceb-8b69-f6d379226c2b"
      },
      "execution_count": 53,
      "outputs": [
        {
          "output_type": "execute_result",
          "data": {
            "text/plain": [
              "tensor([[-127,   14,   59,  -31],\n",
              "        [ -23,  -57,   41,  -14],\n",
              "        [ -52,  -14,  -62,  -59],\n",
              "        [   1,   27,  104,   69]], dtype=torch.int8)"
            ]
          },
          "metadata": {},
          "execution_count": 53
        }
      ]
    },
    {
      "cell_type": "code",
      "source": [
        "scale"
      ],
      "metadata": {
        "colab": {
          "base_uri": "https://localhost:8080/"
        },
        "id": "FREnRD8voxnO",
        "outputId": "eef2163a-c0a3-4235-a3f2-e45371d51833"
      },
      "execution_count": 54,
      "outputs": [
        {
          "output_type": "execute_result",
          "data": {
            "text/plain": [
              "0.01753173287459246"
            ]
          },
          "metadata": {},
          "execution_count": 54
        }
      ]
    },
    {
      "cell_type": "code",
      "source": [
        "dequantized_tensor = linear_dequantization(quantized_tensor,scale,0)"
      ],
      "metadata": {
        "id": "VnybaL12o0HT"
      },
      "execution_count": 55,
      "outputs": []
    },
    {
      "cell_type": "code",
      "source": [
        "def quantization_error(tensor, quantized_tensor):\n",
        "    return (tensor - quantized_tensor).square().mean()"
      ],
      "metadata": {
        "id": "U55m2CKTo511"
      },
      "execution_count": 57,
      "outputs": []
    },
    {
      "cell_type": "code",
      "source": [
        "quantization_error(test_tensor, dequantized_tensor)"
      ],
      "metadata": {
        "colab": {
          "base_uri": "https://localhost:8080/"
        },
        "id": "wdCU_XXxo-5K",
        "outputId": "e73e61fc-7419-437f-c7b4-1c31ed8c35e6"
      },
      "execution_count": 58,
      "outputs": [
        {
          "output_type": "execute_result",
          "data": {
            "text/plain": [
              "tensor(2.7008e-05)"
            ]
          },
          "metadata": {},
          "execution_count": 58
        }
      ]
    },
    {
      "cell_type": "markdown",
      "source": [
        "### Finer Granularities for more precision : Per Tensor , Per Channel , Per Group"
      ],
      "metadata": {
        "id": "P8iepiqapc3i"
      }
    },
    {
      "cell_type": "code",
      "source": [
        "## per tensor\n",
        "test_tensor=torch.tensor(\n",
        "    [[191.6, -13.5, 728.6],\n",
        "     [92.14, 295.5,  -184],\n",
        "     [0,     684.6, 245.5]]\n",
        ")"
      ],
      "metadata": {
        "id": "XvHgiS0qpNo9"
      },
      "execution_count": 59,
      "outputs": []
    },
    {
      "cell_type": "code",
      "source": [
        "quantized_tensor, scale = linear_q_symmetric(test_tensor)"
      ],
      "metadata": {
        "id": "K0HgjarGp5UG"
      },
      "execution_count": 60,
      "outputs": []
    },
    {
      "cell_type": "code",
      "source": [
        "dequantized_tensor = linear_dequantization(quantized_tensor, scale, 0)"
      ],
      "metadata": {
        "id": "6N7K5wVmp6PI"
      },
      "execution_count": 61,
      "outputs": []
    },
    {
      "cell_type": "code",
      "source": [
        "print(f\"\"\"Quantization Error : \\\n",
        "{quantization_error(test_tensor, dequantized_tensor)}\"\"\")"
      ],
      "metadata": {
        "colab": {
          "base_uri": "https://localhost:8080/"
        },
        "id": "v8nxxXX4p-p8",
        "outputId": "81d7c336-a83e-4b04-fe62-27291b8ccb52"
      },
      "execution_count": 62,
      "outputs": [
        {
          "output_type": "stream",
          "name": "stdout",
          "text": [
            "Quantization Error : 2.5091912746429443\n"
          ]
        }
      ]
    },
    {
      "cell_type": "code",
      "source": [
        "## per channel\n",
        "## dim = 0 along the rows\n",
        "## dim = 1 along the cols\n",
        "dim=0\n",
        "output_dim = test_tensor.shape[dim]"
      ],
      "metadata": {
        "id": "ybis2OrgqJUU"
      },
      "execution_count": 63,
      "outputs": []
    },
    {
      "cell_type": "code",
      "source": [
        "output_dim"
      ],
      "metadata": {
        "colab": {
          "base_uri": "https://localhost:8080/"
        },
        "id": "6yIPIuKorVGk",
        "outputId": "0f6f809f-890f-4a2f-9faf-64d06820d562"
      },
      "execution_count": 64,
      "outputs": [
        {
          "output_type": "execute_result",
          "data": {
            "text/plain": [
              "3"
            ]
          },
          "metadata": {},
          "execution_count": 64
        }
      ]
    },
    {
      "cell_type": "code",
      "source": [
        "scale = torch.zeros(output_dim)\n",
        "scale"
      ],
      "metadata": {
        "colab": {
          "base_uri": "https://localhost:8080/"
        },
        "id": "3Tj8uJ0IrZeu",
        "outputId": "25379f4e-b0d1-4e31-980c-d4dec38ef614"
      },
      "execution_count": 65,
      "outputs": [
        {
          "output_type": "execute_result",
          "data": {
            "text/plain": [
              "tensor([0., 0., 0.])"
            ]
          },
          "metadata": {},
          "execution_count": 65
        }
      ]
    },
    {
      "cell_type": "code",
      "source": [
        "for index in range(output_dim):\n",
        "    sub_tensor = test_tensor.select(dim,index)\n",
        "    print(sub_tensor)\n",
        "    scale[index] = get_q_scale_symmetric(sub_tensor)"
      ],
      "metadata": {
        "colab": {
          "base_uri": "https://localhost:8080/"
        },
        "id": "oI7qgK7JriSj",
        "outputId": "35080cbc-7cf7-4c69-d6b8-2900c645ab0e"
      },
      "execution_count": 66,
      "outputs": [
        {
          "output_type": "stream",
          "name": "stdout",
          "text": [
            "tensor([191.6000, -13.5000, 728.6000])\n",
            "tensor([  92.1400,  295.5000, -184.0000])\n",
            "tensor([  0.0000, 684.6000, 245.5000])\n"
          ]
        }
      ]
    },
    {
      "cell_type": "code",
      "source": [
        "scale"
      ],
      "metadata": {
        "colab": {
          "base_uri": "https://localhost:8080/"
        },
        "id": "7iOzu__usQVs",
        "outputId": "687320c2-0517-4253-ebce-183b3f701b28"
      },
      "execution_count": 67,
      "outputs": [
        {
          "output_type": "execute_result",
          "data": {
            "text/plain": [
              "tensor([5.7370, 2.3268, 5.3906])"
            ]
          },
          "metadata": {},
          "execution_count": 67
        }
      ]
    },
    {
      "cell_type": "code",
      "source": [
        "scale_shape = [1] * test_tensor.dim()\n",
        "scale_shape"
      ],
      "metadata": {
        "colab": {
          "base_uri": "https://localhost:8080/"
        },
        "id": "l0gTviXTsXc4",
        "outputId": "93337610-85b5-4ed3-df2a-323fc1c36314"
      },
      "execution_count": 68,
      "outputs": [
        {
          "output_type": "execute_result",
          "data": {
            "text/plain": [
              "[1, 1]"
            ]
          },
          "metadata": {},
          "execution_count": 68
        }
      ]
    },
    {
      "cell_type": "code",
      "source": [
        "scale_shape[dim] = -1"
      ],
      "metadata": {
        "id": "4r4LXCCesdLn"
      },
      "execution_count": 69,
      "outputs": []
    },
    {
      "cell_type": "code",
      "source": [
        "scale_shape"
      ],
      "metadata": {
        "colab": {
          "base_uri": "https://localhost:8080/"
        },
        "id": "xfrXs_7BsjLi",
        "outputId": "ea9942cf-6001-4857-8717-e8f5f42b3e9e"
      },
      "execution_count": 70,
      "outputs": [
        {
          "output_type": "execute_result",
          "data": {
            "text/plain": [
              "[-1, 1]"
            ]
          },
          "metadata": {},
          "execution_count": 70
        }
      ]
    },
    {
      "cell_type": "code",
      "source": [
        "scale = scale.view(scale_shape)"
      ],
      "metadata": {
        "id": "1dXj6zNusk0P"
      },
      "execution_count": 71,
      "outputs": []
    },
    {
      "cell_type": "code",
      "source": [
        "copy_scale = scale\n",
        "scale"
      ],
      "metadata": {
        "colab": {
          "base_uri": "https://localhost:8080/"
        },
        "id": "CtRzOG7rsmqw",
        "outputId": "4fd25f1f-0ce2-4ec1-f6ef-4fc8a1a83fce"
      },
      "execution_count": 72,
      "outputs": [
        {
          "output_type": "execute_result",
          "data": {
            "text/plain": [
              "tensor([[5.7370],\n",
              "        [2.3268],\n",
              "        [5.3906]])"
            ]
          },
          "metadata": {},
          "execution_count": 72
        }
      ]
    },
    {
      "cell_type": "code",
      "source": [
        "## tensor division ---> row division,col division\n",
        "m = torch.tensor([[1,2,3],[4,5,6],[7,8,9]])\n",
        "s = torch.tensor([1,5,10])\n",
        "scale1 = torch.tensor([[1], [5], [10]]) ## row division\n",
        "out1 = m / scale1\n",
        "scale2 = torch.tensor([[1, 5, 10]]) ## col division\n",
        "out2 = m / scale2\n",
        "print(m)\n",
        "print(out1)\n",
        "print(out2)"
      ],
      "metadata": {
        "colab": {
          "base_uri": "https://localhost:8080/"
        },
        "id": "K9gBMw38sp6h",
        "outputId": "87624fec-37e7-4fa0-86f8-a277031a3b8e"
      },
      "execution_count": 73,
      "outputs": [
        {
          "output_type": "stream",
          "name": "stdout",
          "text": [
            "tensor([[1, 2, 3],\n",
            "        [4, 5, 6],\n",
            "        [7, 8, 9]])\n",
            "tensor([[1.0000, 2.0000, 3.0000],\n",
            "        [0.8000, 1.0000, 1.2000],\n",
            "        [0.7000, 0.8000, 0.9000]])\n",
            "tensor([[1.0000, 0.4000, 0.3000],\n",
            "        [4.0000, 1.0000, 0.6000],\n",
            "        [7.0000, 1.6000, 0.9000]])\n"
          ]
        }
      ]
    },
    {
      "cell_type": "code",
      "source": [
        "quantized_tensor = linear_q_with_scale_and_zero_point(\n",
        "    test_tensor, scale=scale, zero_point=0)"
      ],
      "metadata": {
        "id": "wml82trzt4La"
      },
      "execution_count": 74,
      "outputs": []
    },
    {
      "cell_type": "code",
      "source": [
        "quantized_tensor"
      ],
      "metadata": {
        "colab": {
          "base_uri": "https://localhost:8080/"
        },
        "id": "bEwIAwxHugFq",
        "outputId": "9d9387ae-9e9a-45d4-c8c8-d66185a5a586"
      },
      "execution_count": 75,
      "outputs": [
        {
          "output_type": "execute_result",
          "data": {
            "text/plain": [
              "tensor([[ 33,  -2, 127],\n",
              "        [ 40, 127, -79],\n",
              "        [  0, 127,  46]], dtype=torch.int8)"
            ]
          },
          "metadata": {},
          "execution_count": 75
        }
      ]
    },
    {
      "cell_type": "code",
      "source": [
        "def linear_q_symmetric_per_channel(r_tensor, dim, dtype=torch.int8):\n",
        "\n",
        "    output_dim = r_tensor.shape[dim]\n",
        "    ## store the scales\n",
        "    scale = torch.zeros(output_dim)\n",
        "\n",
        "    for index in range(output_dim):\n",
        "        sub_tensor = r_tensor.select(dim, index)\n",
        "        scale[index] = get_q_scale_symmetric(sub_tensor, dtype=dtype)\n",
        "\n",
        "    ## reshape the scale\n",
        "    scale_shape = [1] * r_tensor.dim()\n",
        "    scale_shape[dim] = -1\n",
        "    scale = scale.view(scale_shape)\n",
        "    quantized_tensor = linear_q_with_scale_and_zero_point(\n",
        "        r_tensor, scale=scale, zero_point=0, dtype=dtype)\n",
        "\n",
        "    return quantized_tensor, scale"
      ],
      "metadata": {
        "id": "5CFdrUByujNa"
      },
      "execution_count": 76,
      "outputs": []
    },
    {
      "cell_type": "code",
      "source": [
        "test_tensor=torch.tensor(\n",
        "    [[191.6, -13.5, 728.6],\n",
        "     [92.14, 295.5,  -184],\n",
        "     [0,     684.6, 245.5]]\n",
        ")"
      ],
      "metadata": {
        "id": "eNXl2Temu3Sz"
      },
      "execution_count": 77,
      "outputs": []
    },
    {
      "cell_type": "code",
      "source": [
        "## along the rows (dim = 0)\n",
        "quantized_tensor_0, scale_0 = linear_q_symmetric_per_channel(\n",
        "    test_tensor, dim=0)\n",
        "\n",
        "dequantized_tensor_0 = linear_dequantization(\n",
        "    quantized_tensor_0, scale_0, 0)\n",
        "\n",
        "## along the columns (dim = 1)\n",
        "quantized_tensor_1, scale_1 = linear_q_symmetric_per_channel(\n",
        "    test_tensor, dim=1)\n",
        "\n",
        "dequantized_tensor_1 = linear_dequantization(\n",
        "    quantized_tensor_1, scale_1, 0)"
      ],
      "metadata": {
        "id": "CpNpQrehu92z"
      },
      "execution_count": 81,
      "outputs": []
    },
    {
      "cell_type": "code",
      "source": [
        "print(f\"\"\"Quantization Error : \\\n",
        "{quantization_error(test_tensor, dequantized_tensor_0)}\"\"\")"
      ],
      "metadata": {
        "colab": {
          "base_uri": "https://localhost:8080/"
        },
        "id": "UQNpeVv3vC-E",
        "outputId": "cac79f5a-595e-4a9e-da5f-68ebaef5e919"
      },
      "execution_count": 82,
      "outputs": [
        {
          "output_type": "stream",
          "name": "stdout",
          "text": [
            "Quantization Error : 1.8084441423416138\n"
          ]
        }
      ]
    },
    {
      "cell_type": "code",
      "source": [
        "print(f\"\"\"Quantization Error : \\\n",
        "{quantization_error(test_tensor, dequantized_tensor_1)}\"\"\")"
      ],
      "metadata": {
        "colab": {
          "base_uri": "https://localhost:8080/"
        },
        "id": "r0vxGcCMx7f7",
        "outputId": "df23ce1f-6b76-4478-90e2-e762ff144b08"
      },
      "execution_count": 83,
      "outputs": [
        {
          "output_type": "stream",
          "name": "stdout",
          "text": [
            "Quantization Error : 1.0781488418579102\n"
          ]
        }
      ]
    },
    {
      "cell_type": "code",
      "source": [
        "## per group\n",
        "def linear_q_symmetric_per_group(tensor, group_size,\n",
        "                                 dtype=torch.int8):\n",
        "\n",
        "    t_shape = tensor.shape\n",
        "    assert t_shape[1] % group_size == 0\n",
        "    assert tensor.dim() == 2\n",
        "\n",
        "    tensor = tensor.view(-1, group_size)\n",
        "\n",
        "    quantized_tensor, scale = linear_q_symmetric_per_channel(\n",
        "                                tensor, dim=0, dtype=dtype)\n",
        "\n",
        "    quantized_tensor = quantized_tensor.view(t_shape)\n",
        "\n",
        "    return quantized_tensor, scale"
      ],
      "metadata": {
        "id": "ayJJCDtwyVil"
      },
      "execution_count": 84,
      "outputs": []
    },
    {
      "cell_type": "code",
      "source": [
        "def linear_dequantization_per_group(quantized_tensor, scale,\n",
        "                                    group_size):\n",
        "\n",
        "    q_shape = quantized_tensor.shape\n",
        "    quantized_tensor = quantized_tensor.view(-1, group_size)\n",
        "\n",
        "    dequantized_tensor = linear_dequantization(quantized_tensor,\n",
        "                                               scale, 0)\n",
        "\n",
        "    dequantized_tensor = dequantized_tensor.view(q_shape)\n",
        "\n",
        "    return dequantized_tensor"
      ],
      "metadata": {
        "id": "b-fviuspzXpt"
      },
      "execution_count": 85,
      "outputs": []
    },
    {
      "cell_type": "code",
      "source": [
        "group_size = 3"
      ],
      "metadata": {
        "id": "63r10aZjzZ95"
      },
      "execution_count": 90,
      "outputs": []
    },
    {
      "cell_type": "code",
      "source": [
        "quantized_tensor, scale = linear_q_symmetric_per_group(\n",
        "    test_tensor, group_size=group_size)\n",
        "\n",
        "dequantized_tensor = linear_dequantization_per_group(\n",
        "    quantized_tensor, scale, group_size=group_size)"
      ],
      "metadata": {
        "id": "ZuZpIM_MzeDL"
      },
      "execution_count": 91,
      "outputs": []
    },
    {
      "cell_type": "code",
      "source": [
        "print(f\"\"\"Quantization Error : \\\n",
        "{quantization_error(test_tensor, dequantized_tensor)}\"\"\")"
      ],
      "metadata": {
        "colab": {
          "base_uri": "https://localhost:8080/"
        },
        "id": "Y2rztk9DzkiL",
        "outputId": "4da3ab70-d891-462a-c3c8-e8b9e4abd427"
      },
      "execution_count": 92,
      "outputs": [
        {
          "output_type": "stream",
          "name": "stdout",
          "text": [
            "Quantization Error : 1.8084441423416138\n"
          ]
        }
      ]
    },
    {
      "cell_type": "markdown",
      "source": [
        "### Building 8 bit Quantizer"
      ],
      "metadata": {
        "id": "64lQoA_A2ALe"
      }
    },
    {
      "cell_type": "code",
      "source": [
        "import torch\n",
        "import torch.nn as nn\n",
        "import torch.nn.functional as F"
      ],
      "metadata": {
        "id": "IGjmN0Bh29gA"
      },
      "execution_count": 96,
      "outputs": []
    },
    {
      "cell_type": "code",
      "source": [
        "random_int8 = torch.randint(-128,127,(32,16)).to(torch.int8) ## weights\n",
        "random_hs = torch.randn((1, 16), dtype=torch.bfloat16) ## inputs\n",
        "scales = torch.randn((1, 32), dtype=torch.bfloat16)\n",
        "bias = torch.randn((1, 32), dtype=torch.bfloat16)"
      ],
      "metadata": {
        "id": "Fm8sSBIBzshM"
      },
      "execution_count": 97,
      "outputs": []
    },
    {
      "cell_type": "code",
      "source": [
        "F.linear(random_hs, random_int8.to(random_hs.dtype))"
      ],
      "metadata": {
        "colab": {
          "base_uri": "https://localhost:8080/"
        },
        "id": "Ym3jSOvQ2jOh",
        "outputId": "ee0f0e99-30c8-4e1b-fffc-9729a4b4f18e"
      },
      "execution_count": 98,
      "outputs": [
        {
          "output_type": "execute_result",
          "data": {
            "text/plain": [
              "tensor([[ -432.0000,   161.0000,   240.0000,  -456.0000,   536.0000,    91.5000,\n",
              "            -7.4375,   -37.2500,  -175.0000,   105.5000,  -490.0000,   376.0000,\n",
              "          -584.0000,   430.0000,   644.0000,   -79.0000,   191.0000,    92.5000,\n",
              "          -154.0000,   146.0000,   237.0000,   326.0000,    94.5000,   338.0000,\n",
              "         -1072.0000,   508.0000,   113.0000,  -648.0000,    19.7500,   -15.0000,\n",
              "          -308.0000,   -48.7500]], dtype=torch.bfloat16)"
            ]
          },
          "metadata": {},
          "execution_count": 98
        }
      ]
    },
    {
      "cell_type": "code",
      "source": [
        "F.linear(random_hs, random_int8.to(random_hs.dtype)) * scales"
      ],
      "metadata": {
        "colab": {
          "base_uri": "https://localhost:8080/"
        },
        "id": "Qm763bAF25Uf",
        "outputId": "f4be8035-136c-4f16-876c-c713acc4fd38"
      },
      "execution_count": 99,
      "outputs": [
        {
          "output_type": "execute_result",
          "data": {
            "text/plain": [
              "tensor([[ 251.0000,   19.0000, -382.0000,  128.0000, -852.0000,   90.0000,\n",
              "           -2.9062,   42.0000,  322.0000,   71.5000,  -99.5000, -159.0000,\n",
              "         -840.0000, -510.0000, 1136.0000,  -41.7500,  408.0000,  -16.5000,\n",
              "           63.2500,  106.5000,   19.8750, -332.0000, -104.0000,  206.0000,\n",
              "          366.0000,    2.9219,  140.0000,  105.5000,  -23.8750,  -21.0000,\n",
              "          206.0000,   74.0000]], dtype=torch.bfloat16)"
            ]
          },
          "metadata": {},
          "execution_count": 99
        }
      ]
    },
    {
      "cell_type": "code",
      "source": [
        "(F.linear(random_hs, random_int8.to(random_hs.dtype)) * scales) + bias ## ((input.casted_weight)*scale)+bias"
      ],
      "metadata": {
        "colab": {
          "base_uri": "https://localhost:8080/"
        },
        "id": "vwXv1U5G3NmO",
        "outputId": "1bca8e25-ba8f-4b5e-a288-04ce61a8fda7"
      },
      "execution_count": 100,
      "outputs": [
        {
          "output_type": "execute_result",
          "data": {
            "text/plain": [
              "tensor([[ 251.0000,   19.0000, -382.0000,  130.0000, -856.0000,   90.0000,\n",
              "           -4.1250,   41.0000,  324.0000,   70.5000,  -99.0000, -160.0000,\n",
              "         -840.0000, -510.0000, 1136.0000,  -40.2500,  408.0000,  -17.5000,\n",
              "           61.5000,  106.0000,   20.6250, -330.0000, -105.0000,  206.0000,\n",
              "          366.0000,    1.4766,  141.0000,  105.0000,  -23.2500,  -20.1250,\n",
              "          205.0000,   76.0000]], dtype=torch.bfloat16)"
            ]
          },
          "metadata": {},
          "execution_count": 100
        }
      ]
    },
    {
      "cell_type": "code",
      "source": [
        "def w8_a16_forward(weight, input, scales, bias=None):\n",
        "\n",
        "    casted_weights = weight.to(input.dtype)\n",
        "    output = F.linear(input, casted_weights) * scales\n",
        "\n",
        "    if bias is not None:\n",
        "        output = output + bias\n",
        "\n",
        "    return output"
      ],
      "metadata": {
        "id": "9WdWd0_43QLJ"
      },
      "execution_count": 101,
      "outputs": []
    },
    {
      "cell_type": "code",
      "source": [
        "print(\"With bias:\\n\\n\",\n",
        "      w8_a16_forward(random_int8, random_hs, scales, bias))\n",
        "\n",
        "print(\"\\nWithout bias:\\n\\n\",\n",
        "      w8_a16_forward(random_int8, random_hs, scales))"
      ],
      "metadata": {
        "colab": {
          "base_uri": "https://localhost:8080/"
        },
        "id": "mnPbxCgg4N3g",
        "outputId": "9f5dc7df-4b17-4ee6-abf3-f3970b4a5b9d"
      },
      "execution_count": 102,
      "outputs": [
        {
          "output_type": "stream",
          "name": "stdout",
          "text": [
            "With bias:\n",
            "\n",
            " tensor([[ 251.0000,   19.0000, -382.0000,  130.0000, -856.0000,   90.0000,\n",
            "           -4.1250,   41.0000,  324.0000,   70.5000,  -99.0000, -160.0000,\n",
            "         -840.0000, -510.0000, 1136.0000,  -40.2500,  408.0000,  -17.5000,\n",
            "           61.5000,  106.0000,   20.6250, -330.0000, -105.0000,  206.0000,\n",
            "          366.0000,    1.4766,  141.0000,  105.0000,  -23.2500,  -20.1250,\n",
            "          205.0000,   76.0000]], dtype=torch.bfloat16)\n",
            "\n",
            "Without bias:\n",
            "\n",
            " tensor([[ 251.0000,   19.0000, -382.0000,  128.0000, -852.0000,   90.0000,\n",
            "           -2.9062,   42.0000,  322.0000,   71.5000,  -99.5000, -159.0000,\n",
            "         -840.0000, -510.0000, 1136.0000,  -41.7500,  408.0000,  -16.5000,\n",
            "           63.2500,  106.5000,   19.8750, -332.0000, -104.0000,  206.0000,\n",
            "          366.0000,    2.9219,  140.0000,  105.5000,  -23.8750,  -21.0000,\n",
            "          206.0000,   74.0000]], dtype=torch.bfloat16)\n"
          ]
        }
      ]
    },
    {
      "cell_type": "code",
      "source": [
        "class W8A16LinearLayer(nn.Module):\n",
        "    def __init__(self, in_features, out_features,\n",
        "                 bias=True, dtype=torch.float32):\n",
        "        super().__init__()\n",
        "\n",
        "\n",
        "        self.register_buffer(\n",
        "            \"int8_weights\",\n",
        "            torch.randint(\n",
        "                -128, 127, (out_features, in_features), dtype=torch.int8\n",
        "            )\n",
        "        )\n",
        "\n",
        "        self.register_buffer(\"scales\",\n",
        "                             torch.randn((out_features), dtype=dtype))\n",
        "\n",
        "        if bias:\n",
        "            self.register_buffer(\"bias\",\n",
        "                                 torch.randn((1, out_features),\n",
        "                                             dtype=dtype))\n",
        "\n",
        "        else:\n",
        "            self.bias = None\n",
        "\n",
        "    def quantize(self, weights):\n",
        "        w_fp32 = weights.clone().to(torch.float32)\n",
        "\n",
        "        scales = w_fp32.abs().max(dim=-1).values / 127\n",
        "        scales = scales.to(weights.dtype)\n",
        "\n",
        "        int8_weights = torch.round(weights\n",
        "                        /scales.unsqueeze(1)).to(torch.int8)\n",
        "\n",
        "        self.int8_weights = int8_weights\n",
        "        self.scales = scales\n",
        "\n",
        "    def forward(self, input):\n",
        "        return w8_a16_forward(self.int8_weights,\n",
        "                              input, self.scales, self.bias)"
      ],
      "metadata": {
        "id": "sFveI4Jf4gBl"
      },
      "execution_count": 115,
      "outputs": []
    },
    {
      "cell_type": "code",
      "source": [
        "module = W8A16LinearLayer(4, 8)"
      ],
      "metadata": {
        "id": "A8qKM4PB5CFl"
      },
      "execution_count": 116,
      "outputs": []
    },
    {
      "cell_type": "code",
      "source": [
        "print(\"Weights before:\\n\" , module.int8_weights)"
      ],
      "metadata": {
        "colab": {
          "base_uri": "https://localhost:8080/"
        },
        "id": "jzmRhJhV5KF0",
        "outputId": "564c3fa2-f664-49e6-e328-10aec573b8e5"
      },
      "execution_count": 117,
      "outputs": [
        {
          "output_type": "stream",
          "name": "stdout",
          "text": [
            "Weights before:\n",
            " tensor([[ -23,    5,    7,  -11],\n",
            "        [ 114,   51,   12,   78],\n",
            "        [ -41,  -40,  -38, -125],\n",
            "        [ -96, -104,  -13,   16],\n",
            "        [-126,  -31,  -53,  -73],\n",
            "        [  52,   34,  -16, -103],\n",
            "        [  -4,   17,   78,   63],\n",
            "        [ -20,   67,  -13,   91]], dtype=torch.int8)\n"
          ]
        }
      ]
    },
    {
      "cell_type": "code",
      "source": [
        "random_matrix = torch.randn((4, 8), dtype=torch.bfloat16)"
      ],
      "metadata": {
        "id": "rdXINBHR5shX"
      },
      "execution_count": 118,
      "outputs": []
    },
    {
      "cell_type": "code",
      "source": [
        "module.quantize(random_matrix)"
      ],
      "metadata": {
        "id": "Isw50rAr6KVt"
      },
      "execution_count": 119,
      "outputs": []
    },
    {
      "cell_type": "code",
      "source": [
        "module.scales"
      ],
      "metadata": {
        "colab": {
          "base_uri": "https://localhost:8080/"
        },
        "id": "C7FAFic35N8G",
        "outputId": "6b8ec0fb-7894-4ceb-cf93-a8cab8a6348f"
      },
      "execution_count": 120,
      "outputs": [
        {
          "output_type": "execute_result",
          "data": {
            "text/plain": [
              "tensor([0.0150, 0.0156, 0.0162, 0.0128], dtype=torch.bfloat16)"
            ]
          },
          "metadata": {},
          "execution_count": 120
        }
      ]
    },
    {
      "cell_type": "code",
      "source": [
        "module.scales.shape"
      ],
      "metadata": {
        "colab": {
          "base_uri": "https://localhost:8080/"
        },
        "id": "o3vIwzPA5Wfr",
        "outputId": "64f78eef-4876-4d96-8a65-5a485457ad83"
      },
      "execution_count": 121,
      "outputs": [
        {
          "output_type": "execute_result",
          "data": {
            "text/plain": [
              "torch.Size([4])"
            ]
          },
          "metadata": {},
          "execution_count": 121
        }
      ]
    },
    {
      "cell_type": "code",
      "source": [
        "module.int8_weights.shape"
      ],
      "metadata": {
        "colab": {
          "base_uri": "https://localhost:8080/"
        },
        "id": "nL7ryNnn5Yuu",
        "outputId": "6a65f70d-db4e-42e9-9dea-072e991ca5b4"
      },
      "execution_count": 122,
      "outputs": [
        {
          "output_type": "execute_result",
          "data": {
            "text/plain": [
              "torch.Size([4, 8])"
            ]
          },
          "metadata": {},
          "execution_count": 122
        }
      ]
    },
    {
      "cell_type": "code",
      "source": [
        "## dequantized weights\n",
        "module.int8_weights * module.scales.unsqueeze(1)"
      ],
      "metadata": {
        "colab": {
          "base_uri": "https://localhost:8080/"
        },
        "id": "ydMKllP05cZj",
        "outputId": "1ec90271-49ea-4c96-827d-3bd9ca186a50"
      },
      "execution_count": 123,
      "outputs": [
        {
          "output_type": "execute_result",
          "data": {
            "text/plain": [
              "tensor([[ 0.7070, -0.4805, -0.7188, -1.2031, -1.3203,  1.9062, -0.4961, -0.2695],\n",
              "        [-1.7734,  1.9766, -0.6523, -1.5703, -1.1484,  1.8359,  0.4043,  0.8398],\n",
              "        [ 2.0625, -0.0488,  0.7812,  0.5859, -1.1016,  0.8750, -0.5039,  1.4297],\n",
              "        [-0.8984,  0.1543, -0.4609,  1.6250,  0.3965, -1.0000, -0.3711,  1.3594]],\n",
              "       dtype=torch.bfloat16)"
            ]
          },
          "metadata": {},
          "execution_count": 123
        }
      ]
    },
    {
      "cell_type": "code",
      "source": [
        "## original weights\n",
        "random_matrix"
      ],
      "metadata": {
        "colab": {
          "base_uri": "https://localhost:8080/"
        },
        "id": "0Qlq7PTI5zwj",
        "outputId": "c37335c5-aa0f-41a8-b0f7-8f364dc2dc15"
      },
      "execution_count": 124,
      "outputs": [
        {
          "output_type": "execute_result",
          "data": {
            "text/plain": [
              "tensor([[ 0.7070, -0.4863, -0.7266, -1.1953, -1.3281,  1.9062, -0.4980, -0.2773],\n",
              "        [-1.7656,  1.9766, -0.6562, -1.5703, -1.1562,  1.8281,  0.4102,  0.8359],\n",
              "        [ 2.0625, -0.0413,  0.7773,  0.5820, -1.1094,  0.8828, -0.4980,  1.4297],\n",
              "        [-0.8906,  0.1475, -0.4609,  1.6250,  0.3984, -0.9961, -0.3711,  1.3672]],\n",
              "       dtype=torch.bfloat16)"
            ]
          },
          "metadata": {},
          "execution_count": 124
        }
      ]
    },
    {
      "cell_type": "code",
      "source": [
        "(random_matrix - module.int8_weights\n",
        " * module.scales.unsqueeze(1)).abs().mean()"
      ],
      "metadata": {
        "colab": {
          "base_uri": "https://localhost:8080/"
        },
        "id": "XcIklU2-58ec",
        "outputId": "e1bfa011-9f2e-4b28-dfdd-9f96964cd767"
      },
      "execution_count": 125,
      "outputs": [
        {
          "output_type": "execute_result",
          "data": {
            "text/plain": [
              "tensor(0.0044, dtype=torch.bfloat16)"
            ]
          },
          "metadata": {},
          "execution_count": 125
        }
      ]
    },
    {
      "cell_type": "markdown",
      "source": [
        "### Replace Pytorch layer with Quantized layer"
      ],
      "metadata": {
        "id": "seD4ULCP6pvX"
      }
    },
    {
      "cell_type": "code",
      "source": [
        "def replace_linear_with_target(module,target_class, module_name_to_exclude):\n",
        "\n",
        "    for name, child in module.named_children():\n",
        "        if isinstance(child, nn.Linear) and not \\\n",
        "          any([x == name for x in module_name_to_exclude]):\n",
        "            old_bias = child.bias\n",
        "\n",
        "            new_module = target_class(child.in_features,\n",
        "                                      child.out_features,\n",
        "                                      old_bias is not None,\n",
        "                                      child.weight.dtype)\n",
        "            setattr(module, name, new_module)\n",
        "            if old_bias is not None:\n",
        "              getattr(module, name).bias = old_bias\n",
        "        else:\n",
        "            # Recursively call the function for nested modules\n",
        "            replace_linear_with_target(\n",
        "                child, target_class, module_name_to_exclude)"
      ],
      "metadata": {
        "id": "QMmypGtS6XwV"
      },
      "execution_count": 127,
      "outputs": []
    },
    {
      "cell_type": "code",
      "source": [
        "class DummyModel(torch.nn.Module):\n",
        "  def __init__(self):\n",
        "    super().__init__()\n",
        "    self.emb = torch.nn.Embedding(1, 1)\n",
        "    # Try with bias\n",
        "    self.linear_1 = nn.Linear(1, 1)\n",
        "    # Try without bias\n",
        "    self.linear_2 = nn.Linear(1, 1, bias=False)\n",
        "    # Lm prediction head\n",
        "    self.lm_head = nn.Linear(1, 1, bias=False)"
      ],
      "metadata": {
        "id": "lO-eNCQBPNz9"
      },
      "execution_count": 128,
      "outputs": []
    },
    {
      "cell_type": "code",
      "source": [
        "model_1 = DummyModel()\n",
        "model_2 = DummyModel()"
      ],
      "metadata": {
        "id": "UNzBOCzgPzDQ"
      },
      "execution_count": 129,
      "outputs": []
    },
    {
      "cell_type": "code",
      "source": [
        "print(model_1)"
      ],
      "metadata": {
        "colab": {
          "base_uri": "https://localhost:8080/"
        },
        "id": "G_8qhsSpP542",
        "outputId": "784a8724-65ed-419b-cce3-8241b61de6d6"
      },
      "execution_count": 130,
      "outputs": [
        {
          "output_type": "stream",
          "name": "stdout",
          "text": [
            "DummyModel(\n",
            "  (emb): Embedding(1, 1)\n",
            "  (linear_1): Linear(in_features=1, out_features=1, bias=True)\n",
            "  (linear_2): Linear(in_features=1, out_features=1, bias=False)\n",
            "  (lm_head): Linear(in_features=1, out_features=1, bias=False)\n",
            ")\n"
          ]
        }
      ]
    },
    {
      "cell_type": "code",
      "source": [
        "replace_linear_with_target(model_1, W8A16LinearLayer, [\"lm_head\"])\n",
        "print(model_1)"
      ],
      "metadata": {
        "colab": {
          "base_uri": "https://localhost:8080/"
        },
        "id": "qr9Yh9oyQARF",
        "outputId": "18ca3199-8abd-4228-97f9-4d23ab55cc23"
      },
      "execution_count": 131,
      "outputs": [
        {
          "output_type": "stream",
          "name": "stdout",
          "text": [
            "DummyModel(\n",
            "  (emb): Embedding(1, 1)\n",
            "  (linear_1): W8A16LinearLayer()\n",
            "  (linear_2): W8A16LinearLayer()\n",
            "  (lm_head): Linear(in_features=1, out_features=1, bias=False)\n",
            ")\n"
          ]
        }
      ]
    },
    {
      "cell_type": "code",
      "source": [
        "replace_linear_with_target(model_2, W8A16LinearLayer, [])\n",
        "print(model_2)"
      ],
      "metadata": {
        "colab": {
          "base_uri": "https://localhost:8080/"
        },
        "id": "Hjd0KCh8QDvZ",
        "outputId": "dad6adfa-3483-4be7-dd12-678fa4c6fa00"
      },
      "execution_count": 132,
      "outputs": [
        {
          "output_type": "stream",
          "name": "stdout",
          "text": [
            "DummyModel(\n",
            "  (emb): Embedding(1, 1)\n",
            "  (linear_1): W8A16LinearLayer()\n",
            "  (linear_2): W8A16LinearLayer()\n",
            "  (lm_head): W8A16LinearLayer()\n",
            ")\n"
          ]
        }
      ]
    },
    {
      "cell_type": "code",
      "source": [
        "def replace_linear_with_target_and_quantize(module, target_class, module_name_to_exclude):\n",
        "\n",
        "    for name, child in module.named_children():\n",
        "        if isinstance(child, nn.Linear) and not \\\n",
        "        any([x == name for x in module_name_to_exclude]):\n",
        "            old_bias = child.bias\n",
        "            old_weight = child.weight\n",
        "\n",
        "            new_module = target_class(child.in_features,\n",
        "                                      child.out_features,\n",
        "                                      old_bias is not None,\n",
        "                                      child.weight.dtype)\n",
        "            setattr(module, name, new_module)\n",
        "\n",
        "            getattr(module, name).quantize(old_weight)\n",
        "\n",
        "            if old_bias is not None:\n",
        "              getattr(module, name).bias = old_bias\n",
        "        else:\n",
        "            # Recursively call the function for nested modules\n",
        "            replace_linear_with_target_and_quantize(child,\n",
        "                     target_class, module_name_to_exclude)"
      ],
      "metadata": {
        "id": "EvIrdCSaQIlL"
      },
      "execution_count": 133,
      "outputs": []
    },
    {
      "cell_type": "code",
      "source": [
        "model_3 = DummyModel()"
      ],
      "metadata": {
        "id": "hBYhldEDQgiN"
      },
      "execution_count": 134,
      "outputs": []
    },
    {
      "cell_type": "code",
      "source": [
        "replace_linear_with_target_and_quantize(model_3, W8A16LinearLayer, [\"lm_head\"])\n",
        "print(model_3)"
      ],
      "metadata": {
        "colab": {
          "base_uri": "https://localhost:8080/"
        },
        "id": "ImcCc3_iQoAd",
        "outputId": "ccab8b51-2bc2-44e0-d700-199c1f51c5a8"
      },
      "execution_count": 135,
      "outputs": [
        {
          "output_type": "stream",
          "name": "stdout",
          "text": [
            "DummyModel(\n",
            "  (emb): Embedding(1, 1)\n",
            "  (linear_1): W8A16LinearLayer()\n",
            "  (linear_2): W8A16LinearLayer()\n",
            "  (lm_head): Linear(in_features=1, out_features=1, bias=False)\n",
            ")\n"
          ]
        }
      ]
    },
    {
      "cell_type": "markdown",
      "source": [
        "### Quantize any Open Source Pytorch Model"
      ],
      "metadata": {
        "id": "PpxG-LkWQ1F9"
      }
    },
    {
      "cell_type": "markdown",
      "source": [
        "### [Salesforce/codegen-350M-mono](https://huggingface.co/Salesforce/codegen-350M-mono) Model Space Optimization"
      ],
      "metadata": {
        "id": "2R6HjawSdGRH"
      }
    },
    {
      "cell_type": "code",
      "source": [
        "from transformers import AutoModelForCausalLM, AutoTokenizer, pipeline\n",
        "tokenizer = AutoTokenizer.from_pretrained(\"Salesforce/codegen-350M-mono\")\n",
        "model = AutoModelForCausalLM.from_pretrained(\"Salesforce/codegen-350M-mono\")"
      ],
      "metadata": {
        "id": "OHt9s6g0Qsed"
      },
      "execution_count": 178,
      "outputs": []
    },
    {
      "cell_type": "code",
      "source": [
        "pipe = pipeline(\"text-generation\", model=model, tokenizer=tokenizer)"
      ],
      "metadata": {
        "id": "bLTuJkC9R6ZH"
      },
      "execution_count": 179,
      "outputs": []
    },
    {
      "cell_type": "code",
      "source": [
        "print(pipe(\"def hello_world():\", max_new_tokens=20, do_sample=False))"
      ],
      "metadata": {
        "colab": {
          "base_uri": "https://localhost:8080/"
        },
        "id": "2i8CITUmSNeQ",
        "outputId": "d0e77dda-6660-4d0e-b3ac-6c5edae798b4"
      },
      "execution_count": 180,
      "outputs": [
        {
          "output_type": "stream",
          "name": "stderr",
          "text": [
            "Setting `pad_token_id` to `eos_token_id`:50256 for open-end generation.\n"
          ]
        },
        {
          "output_type": "stream",
          "name": "stdout",
          "text": [
            "[{'generated_text': 'def hello_world():\\n    print(\"Hello World\")\\n\\nhello_world()\\n\\n# 파'}]\n"
          ]
        }
      ]
    },
    {
      "cell_type": "code",
      "source": [
        "previous_memory_footprint = model.get_memory_footprint()"
      ],
      "metadata": {
        "id": "AhlZ3WbAbQJ9"
      },
      "execution_count": 181,
      "outputs": []
    },
    {
      "cell_type": "code",
      "source": [
        "previous_memory_footprint"
      ],
      "metadata": {
        "colab": {
          "base_uri": "https://localhost:8080/"
        },
        "id": "K0BC_sQtbSoU",
        "outputId": "82a93408-4002-4a05-ded5-035304220502"
      },
      "execution_count": 182,
      "outputs": [
        {
          "output_type": "execute_result",
          "data": {
            "text/plain": [
              "1510735872"
            ]
          },
          "metadata": {},
          "execution_count": 182
        }
      ]
    },
    {
      "cell_type": "code",
      "source": [
        "print(\"Model before:\\n\\n\", model)"
      ],
      "metadata": {
        "colab": {
          "base_uri": "https://localhost:8080/"
        },
        "id": "UUzgoGylS5g7",
        "outputId": "6c8b9a73-006d-4a64-e3f6-9dbd1b3a356c"
      },
      "execution_count": 183,
      "outputs": [
        {
          "output_type": "stream",
          "name": "stdout",
          "text": [
            "Model before:\n",
            "\n",
            " CodeGenForCausalLM(\n",
            "  (transformer): CodeGenModel(\n",
            "    (wte): Embedding(51200, 1024)\n",
            "    (drop): Dropout(p=0.0, inplace=False)\n",
            "    (h): ModuleList(\n",
            "      (0-19): 20 x CodeGenBlock(\n",
            "        (ln_1): LayerNorm((1024,), eps=1e-05, elementwise_affine=True)\n",
            "        (attn): CodeGenAttention(\n",
            "          (attn_dropout): Dropout(p=0.0, inplace=False)\n",
            "          (resid_dropout): Dropout(p=0.0, inplace=False)\n",
            "          (qkv_proj): Linear(in_features=1024, out_features=3072, bias=False)\n",
            "          (out_proj): Linear(in_features=1024, out_features=1024, bias=False)\n",
            "        )\n",
            "        (mlp): CodeGenMLP(\n",
            "          (fc_in): Linear(in_features=1024, out_features=4096, bias=True)\n",
            "          (fc_out): Linear(in_features=4096, out_features=1024, bias=True)\n",
            "          (act): NewGELUActivation()\n",
            "          (dropout): Dropout(p=0.0, inplace=False)\n",
            "        )\n",
            "      )\n",
            "    )\n",
            "    (ln_f): LayerNorm((1024,), eps=1e-05, elementwise_affine=True)\n",
            "  )\n",
            "  (lm_head): Linear(in_features=1024, out_features=51200, bias=True)\n",
            ")\n"
          ]
        }
      ]
    },
    {
      "cell_type": "code",
      "source": [
        "replace_linear_with_target_and_quantize(model,\n",
        "                                        W8A16LinearLayer, [\"lm_head\"])"
      ],
      "metadata": {
        "id": "APTJsJkQS9z9"
      },
      "execution_count": 184,
      "outputs": []
    },
    {
      "cell_type": "code",
      "source": [
        "pipe.model"
      ],
      "metadata": {
        "colab": {
          "base_uri": "https://localhost:8080/"
        },
        "id": "SxXfKsEXTCpZ",
        "outputId": "7e24fa1d-2a83-4718-e1da-38b9f4c85215"
      },
      "execution_count": 185,
      "outputs": [
        {
          "output_type": "execute_result",
          "data": {
            "text/plain": [
              "CodeGenForCausalLM(\n",
              "  (transformer): CodeGenModel(\n",
              "    (wte): Embedding(51200, 1024)\n",
              "    (drop): Dropout(p=0.0, inplace=False)\n",
              "    (h): ModuleList(\n",
              "      (0-19): 20 x CodeGenBlock(\n",
              "        (ln_1): LayerNorm((1024,), eps=1e-05, elementwise_affine=True)\n",
              "        (attn): CodeGenAttention(\n",
              "          (attn_dropout): Dropout(p=0.0, inplace=False)\n",
              "          (resid_dropout): Dropout(p=0.0, inplace=False)\n",
              "          (qkv_proj): W8A16LinearLayer()\n",
              "          (out_proj): W8A16LinearLayer()\n",
              "        )\n",
              "        (mlp): CodeGenMLP(\n",
              "          (fc_in): W8A16LinearLayer()\n",
              "          (fc_out): W8A16LinearLayer()\n",
              "          (act): NewGELUActivation()\n",
              "          (dropout): Dropout(p=0.0, inplace=False)\n",
              "        )\n",
              "      )\n",
              "    )\n",
              "    (ln_f): LayerNorm((1024,), eps=1e-05, elementwise_affine=True)\n",
              "  )\n",
              "  (lm_head): Linear(in_features=1024, out_features=51200, bias=True)\n",
              ")"
            ]
          },
          "metadata": {},
          "execution_count": 185
        }
      ]
    },
    {
      "cell_type": "code",
      "source": [
        "print(pipe(\"def hello_world():\", max_new_tokens=20,\n",
        "           do_sample=False)[0][\"generated_text\"])"
      ],
      "metadata": {
        "colab": {
          "base_uri": "https://localhost:8080/"
        },
        "id": "7rpaJb0iTH6o",
        "outputId": "e3ae4f12-6db5-40aa-8b84-c120ff16d37d"
      },
      "execution_count": 186,
      "outputs": [
        {
          "output_type": "stream",
          "name": "stderr",
          "text": [
            "Setting `pad_token_id` to `eos_token_id`:50256 for open-end generation.\n"
          ]
        },
        {
          "output_type": "stream",
          "name": "stdout",
          "text": [
            "def hello_world():\n",
            "    print(\"Hello World\")\n",
            "\n",
            "hello_world()\n",
            "\n",
            "# 파\n"
          ]
        }
      ]
    },
    {
      "cell_type": "code",
      "source": [
        "new_footprint = model.get_memory_footprint()"
      ],
      "metadata": {
        "id": "c0z1tk5hX4eP"
      },
      "execution_count": 187,
      "outputs": []
    },
    {
      "cell_type": "code",
      "source": [
        "new_footprint"
      ],
      "metadata": {
        "colab": {
          "base_uri": "https://localhost:8080/"
        },
        "id": "CM-S0CnTX4V8",
        "outputId": "9838e05e-c923-47a0-89f5-0d0ce8ac68dc"
      },
      "execution_count": 188,
      "outputs": [
        {
          "output_type": "execute_result",
          "data": {
            "text/plain": [
              "756498432"
            ]
          },
          "metadata": {},
          "execution_count": 188
        }
      ]
    },
    {
      "cell_type": "code",
      "source": [
        "print(\"Memory saved in MBs: \",\n",
        "      (previous_memory_footprint - new_footprint)/1e+6)"
      ],
      "metadata": {
        "colab": {
          "base_uri": "https://localhost:8080/"
        },
        "id": "f-YbblRDcNwa",
        "outputId": "ef72ee16-ef82-4ce6-afd6-28f5926b76af"
      },
      "execution_count": 189,
      "outputs": [
        {
          "output_type": "stream",
          "name": "stdout",
          "text": [
            "Memory saved in MBs:  754.23744\n"
          ]
        }
      ]
    },
    {
      "cell_type": "code",
      "source": [
        "print(\"Percentage of memory optimized: \",\n",
        "      (previous_memory_footprint - new_footprint) / previous_memory_footprint * 100, \"%\")\n"
      ],
      "metadata": {
        "colab": {
          "base_uri": "https://localhost:8080/"
        },
        "id": "O_A0dxVad7iE",
        "outputId": "dcfaca91-3fd7-4ce4-bd7c-2d6e6ff9e775"
      },
      "execution_count": 191,
      "outputs": [
        {
          "output_type": "stream",
          "name": "stdout",
          "text": [
            "Percentage of memory optimized:  49.92516918271733 %\n"
          ]
        }
      ]
    },
    {
      "cell_type": "markdown",
      "source": [
        "### [facebook/detr-resnet-50](https://huggingface.co/facebook/detr-resnet-50) Model Space Optimization"
      ],
      "metadata": {
        "id": "tCamcbXkdbHv"
      }
    },
    {
      "cell_type": "code",
      "source": [
        "from transformers import DetrImageProcessor, DetrForObjectDetection\n",
        "import torch\n",
        "from PIL import Image\n",
        "import requests\n",
        "\n",
        "url = \"http://images.cocodataset.org/val2017/000000039769.jpg\"\n",
        "image = Image.open(requests.get(url, stream=True).raw)\n",
        "\n",
        "# you can specify the revision tag if you don't want the timm dependency\n",
        "processor = DetrImageProcessor.from_pretrained(\"facebook/detr-resnet-50\", revision=\"no_timm\")\n",
        "model = DetrForObjectDetection.from_pretrained(\"facebook/detr-resnet-50\", revision=\"no_timm\")"
      ],
      "metadata": {
        "id": "jmTGw8nOTM_D"
      },
      "execution_count": 192,
      "outputs": []
    },
    {
      "cell_type": "code",
      "source": [
        "previous_memory_footprint = model.get_memory_footprint()"
      ],
      "metadata": {
        "id": "CVCwcNp2Tcoi"
      },
      "execution_count": 193,
      "outputs": []
    },
    {
      "cell_type": "code",
      "source": [
        "print(\"Footprint of the model in MBs: \",\n",
        "      previous_memory_footprint/1e+6)"
      ],
      "metadata": {
        "colab": {
          "base_uri": "https://localhost:8080/"
        },
        "id": "g3qz_L69TjhY",
        "outputId": "fb1f3f6b-cede-4a71-bd43-0d0ce3ca9f0a"
      },
      "execution_count": 194,
      "outputs": [
        {
          "output_type": "stream",
          "name": "stdout",
          "text": [
            "Footprint of the model in MBs:  166.524032\n"
          ]
        }
      ]
    },
    {
      "cell_type": "code",
      "source": [
        "img_path = \"TTtournamentChampion.10.17 PM.jpeg\"\n",
        "image = Image.open(img_path).convert(\"RGB\")"
      ],
      "metadata": {
        "id": "sEZGog_dTl_i"
      },
      "execution_count": 195,
      "outputs": []
    },
    {
      "cell_type": "code",
      "source": [
        "model"
      ],
      "metadata": {
        "colab": {
          "base_uri": "https://localhost:8080/"
        },
        "id": "d7M24O9YVipW",
        "outputId": "b318cb14-0471-4c94-f8a9-c6ecf3092e48"
      },
      "execution_count": 196,
      "outputs": [
        {
          "output_type": "execute_result",
          "data": {
            "text/plain": [
              "DetrForObjectDetection(\n",
              "  (model): DetrModel(\n",
              "    (backbone): DetrConvModel(\n",
              "      (conv_encoder): DetrConvEncoder(\n",
              "        (model): ResNetBackbone(\n",
              "          (embedder): ResNetEmbeddings(\n",
              "            (embedder): ResNetConvLayer(\n",
              "              (convolution): Conv2d(3, 64, kernel_size=(7, 7), stride=(2, 2), padding=(3, 3), bias=False)\n",
              "              (normalization): DetrFrozenBatchNorm2d()\n",
              "              (activation): ReLU()\n",
              "            )\n",
              "            (pooler): MaxPool2d(kernel_size=3, stride=2, padding=1, dilation=1, ceil_mode=False)\n",
              "          )\n",
              "          (encoder): ResNetEncoder(\n",
              "            (stages): ModuleList(\n",
              "              (0): ResNetStage(\n",
              "                (layers): Sequential(\n",
              "                  (0): ResNetBottleNeckLayer(\n",
              "                    (shortcut): ResNetShortCut(\n",
              "                      (convolution): Conv2d(64, 256, kernel_size=(1, 1), stride=(1, 1), bias=False)\n",
              "                      (normalization): DetrFrozenBatchNorm2d()\n",
              "                    )\n",
              "                    (layer): Sequential(\n",
              "                      (0): ResNetConvLayer(\n",
              "                        (convolution): Conv2d(64, 64, kernel_size=(1, 1), stride=(1, 1), bias=False)\n",
              "                        (normalization): DetrFrozenBatchNorm2d()\n",
              "                        (activation): ReLU()\n",
              "                      )\n",
              "                      (1): ResNetConvLayer(\n",
              "                        (convolution): Conv2d(64, 64, kernel_size=(3, 3), stride=(1, 1), padding=(1, 1), bias=False)\n",
              "                        (normalization): DetrFrozenBatchNorm2d()\n",
              "                        (activation): ReLU()\n",
              "                      )\n",
              "                      (2): ResNetConvLayer(\n",
              "                        (convolution): Conv2d(64, 256, kernel_size=(1, 1), stride=(1, 1), bias=False)\n",
              "                        (normalization): DetrFrozenBatchNorm2d()\n",
              "                        (activation): Identity()\n",
              "                      )\n",
              "                    )\n",
              "                    (activation): ReLU()\n",
              "                  )\n",
              "                  (1): ResNetBottleNeckLayer(\n",
              "                    (shortcut): Identity()\n",
              "                    (layer): Sequential(\n",
              "                      (0): ResNetConvLayer(\n",
              "                        (convolution): Conv2d(256, 64, kernel_size=(1, 1), stride=(1, 1), bias=False)\n",
              "                        (normalization): DetrFrozenBatchNorm2d()\n",
              "                        (activation): ReLU()\n",
              "                      )\n",
              "                      (1): ResNetConvLayer(\n",
              "                        (convolution): Conv2d(64, 64, kernel_size=(3, 3), stride=(1, 1), padding=(1, 1), bias=False)\n",
              "                        (normalization): DetrFrozenBatchNorm2d()\n",
              "                        (activation): ReLU()\n",
              "                      )\n",
              "                      (2): ResNetConvLayer(\n",
              "                        (convolution): Conv2d(64, 256, kernel_size=(1, 1), stride=(1, 1), bias=False)\n",
              "                        (normalization): DetrFrozenBatchNorm2d()\n",
              "                        (activation): Identity()\n",
              "                      )\n",
              "                    )\n",
              "                    (activation): ReLU()\n",
              "                  )\n",
              "                  (2): ResNetBottleNeckLayer(\n",
              "                    (shortcut): Identity()\n",
              "                    (layer): Sequential(\n",
              "                      (0): ResNetConvLayer(\n",
              "                        (convolution): Conv2d(256, 64, kernel_size=(1, 1), stride=(1, 1), bias=False)\n",
              "                        (normalization): DetrFrozenBatchNorm2d()\n",
              "                        (activation): ReLU()\n",
              "                      )\n",
              "                      (1): ResNetConvLayer(\n",
              "                        (convolution): Conv2d(64, 64, kernel_size=(3, 3), stride=(1, 1), padding=(1, 1), bias=False)\n",
              "                        (normalization): DetrFrozenBatchNorm2d()\n",
              "                        (activation): ReLU()\n",
              "                      )\n",
              "                      (2): ResNetConvLayer(\n",
              "                        (convolution): Conv2d(64, 256, kernel_size=(1, 1), stride=(1, 1), bias=False)\n",
              "                        (normalization): DetrFrozenBatchNorm2d()\n",
              "                        (activation): Identity()\n",
              "                      )\n",
              "                    )\n",
              "                    (activation): ReLU()\n",
              "                  )\n",
              "                )\n",
              "              )\n",
              "              (1): ResNetStage(\n",
              "                (layers): Sequential(\n",
              "                  (0): ResNetBottleNeckLayer(\n",
              "                    (shortcut): ResNetShortCut(\n",
              "                      (convolution): Conv2d(256, 512, kernel_size=(1, 1), stride=(2, 2), bias=False)\n",
              "                      (normalization): DetrFrozenBatchNorm2d()\n",
              "                    )\n",
              "                    (layer): Sequential(\n",
              "                      (0): ResNetConvLayer(\n",
              "                        (convolution): Conv2d(256, 128, kernel_size=(1, 1), stride=(1, 1), bias=False)\n",
              "                        (normalization): DetrFrozenBatchNorm2d()\n",
              "                        (activation): ReLU()\n",
              "                      )\n",
              "                      (1): ResNetConvLayer(\n",
              "                        (convolution): Conv2d(128, 128, kernel_size=(3, 3), stride=(2, 2), padding=(1, 1), bias=False)\n",
              "                        (normalization): DetrFrozenBatchNorm2d()\n",
              "                        (activation): ReLU()\n",
              "                      )\n",
              "                      (2): ResNetConvLayer(\n",
              "                        (convolution): Conv2d(128, 512, kernel_size=(1, 1), stride=(1, 1), bias=False)\n",
              "                        (normalization): DetrFrozenBatchNorm2d()\n",
              "                        (activation): Identity()\n",
              "                      )\n",
              "                    )\n",
              "                    (activation): ReLU()\n",
              "                  )\n",
              "                  (1): ResNetBottleNeckLayer(\n",
              "                    (shortcut): Identity()\n",
              "                    (layer): Sequential(\n",
              "                      (0): ResNetConvLayer(\n",
              "                        (convolution): Conv2d(512, 128, kernel_size=(1, 1), stride=(1, 1), bias=False)\n",
              "                        (normalization): DetrFrozenBatchNorm2d()\n",
              "                        (activation): ReLU()\n",
              "                      )\n",
              "                      (1): ResNetConvLayer(\n",
              "                        (convolution): Conv2d(128, 128, kernel_size=(3, 3), stride=(1, 1), padding=(1, 1), bias=False)\n",
              "                        (normalization): DetrFrozenBatchNorm2d()\n",
              "                        (activation): ReLU()\n",
              "                      )\n",
              "                      (2): ResNetConvLayer(\n",
              "                        (convolution): Conv2d(128, 512, kernel_size=(1, 1), stride=(1, 1), bias=False)\n",
              "                        (normalization): DetrFrozenBatchNorm2d()\n",
              "                        (activation): Identity()\n",
              "                      )\n",
              "                    )\n",
              "                    (activation): ReLU()\n",
              "                  )\n",
              "                  (2): ResNetBottleNeckLayer(\n",
              "                    (shortcut): Identity()\n",
              "                    (layer): Sequential(\n",
              "                      (0): ResNetConvLayer(\n",
              "                        (convolution): Conv2d(512, 128, kernel_size=(1, 1), stride=(1, 1), bias=False)\n",
              "                        (normalization): DetrFrozenBatchNorm2d()\n",
              "                        (activation): ReLU()\n",
              "                      )\n",
              "                      (1): ResNetConvLayer(\n",
              "                        (convolution): Conv2d(128, 128, kernel_size=(3, 3), stride=(1, 1), padding=(1, 1), bias=False)\n",
              "                        (normalization): DetrFrozenBatchNorm2d()\n",
              "                        (activation): ReLU()\n",
              "                      )\n",
              "                      (2): ResNetConvLayer(\n",
              "                        (convolution): Conv2d(128, 512, kernel_size=(1, 1), stride=(1, 1), bias=False)\n",
              "                        (normalization): DetrFrozenBatchNorm2d()\n",
              "                        (activation): Identity()\n",
              "                      )\n",
              "                    )\n",
              "                    (activation): ReLU()\n",
              "                  )\n",
              "                  (3): ResNetBottleNeckLayer(\n",
              "                    (shortcut): Identity()\n",
              "                    (layer): Sequential(\n",
              "                      (0): ResNetConvLayer(\n",
              "                        (convolution): Conv2d(512, 128, kernel_size=(1, 1), stride=(1, 1), bias=False)\n",
              "                        (normalization): DetrFrozenBatchNorm2d()\n",
              "                        (activation): ReLU()\n",
              "                      )\n",
              "                      (1): ResNetConvLayer(\n",
              "                        (convolution): Conv2d(128, 128, kernel_size=(3, 3), stride=(1, 1), padding=(1, 1), bias=False)\n",
              "                        (normalization): DetrFrozenBatchNorm2d()\n",
              "                        (activation): ReLU()\n",
              "                      )\n",
              "                      (2): ResNetConvLayer(\n",
              "                        (convolution): Conv2d(128, 512, kernel_size=(1, 1), stride=(1, 1), bias=False)\n",
              "                        (normalization): DetrFrozenBatchNorm2d()\n",
              "                        (activation): Identity()\n",
              "                      )\n",
              "                    )\n",
              "                    (activation): ReLU()\n",
              "                  )\n",
              "                )\n",
              "              )\n",
              "              (2): ResNetStage(\n",
              "                (layers): Sequential(\n",
              "                  (0): ResNetBottleNeckLayer(\n",
              "                    (shortcut): ResNetShortCut(\n",
              "                      (convolution): Conv2d(512, 1024, kernel_size=(1, 1), stride=(2, 2), bias=False)\n",
              "                      (normalization): DetrFrozenBatchNorm2d()\n",
              "                    )\n",
              "                    (layer): Sequential(\n",
              "                      (0): ResNetConvLayer(\n",
              "                        (convolution): Conv2d(512, 256, kernel_size=(1, 1), stride=(1, 1), bias=False)\n",
              "                        (normalization): DetrFrozenBatchNorm2d()\n",
              "                        (activation): ReLU()\n",
              "                      )\n",
              "                      (1): ResNetConvLayer(\n",
              "                        (convolution): Conv2d(256, 256, kernel_size=(3, 3), stride=(2, 2), padding=(1, 1), bias=False)\n",
              "                        (normalization): DetrFrozenBatchNorm2d()\n",
              "                        (activation): ReLU()\n",
              "                      )\n",
              "                      (2): ResNetConvLayer(\n",
              "                        (convolution): Conv2d(256, 1024, kernel_size=(1, 1), stride=(1, 1), bias=False)\n",
              "                        (normalization): DetrFrozenBatchNorm2d()\n",
              "                        (activation): Identity()\n",
              "                      )\n",
              "                    )\n",
              "                    (activation): ReLU()\n",
              "                  )\n",
              "                  (1): ResNetBottleNeckLayer(\n",
              "                    (shortcut): Identity()\n",
              "                    (layer): Sequential(\n",
              "                      (0): ResNetConvLayer(\n",
              "                        (convolution): Conv2d(1024, 256, kernel_size=(1, 1), stride=(1, 1), bias=False)\n",
              "                        (normalization): DetrFrozenBatchNorm2d()\n",
              "                        (activation): ReLU()\n",
              "                      )\n",
              "                      (1): ResNetConvLayer(\n",
              "                        (convolution): Conv2d(256, 256, kernel_size=(3, 3), stride=(1, 1), padding=(1, 1), bias=False)\n",
              "                        (normalization): DetrFrozenBatchNorm2d()\n",
              "                        (activation): ReLU()\n",
              "                      )\n",
              "                      (2): ResNetConvLayer(\n",
              "                        (convolution): Conv2d(256, 1024, kernel_size=(1, 1), stride=(1, 1), bias=False)\n",
              "                        (normalization): DetrFrozenBatchNorm2d()\n",
              "                        (activation): Identity()\n",
              "                      )\n",
              "                    )\n",
              "                    (activation): ReLU()\n",
              "                  )\n",
              "                  (2): ResNetBottleNeckLayer(\n",
              "                    (shortcut): Identity()\n",
              "                    (layer): Sequential(\n",
              "                      (0): ResNetConvLayer(\n",
              "                        (convolution): Conv2d(1024, 256, kernel_size=(1, 1), stride=(1, 1), bias=False)\n",
              "                        (normalization): DetrFrozenBatchNorm2d()\n",
              "                        (activation): ReLU()\n",
              "                      )\n",
              "                      (1): ResNetConvLayer(\n",
              "                        (convolution): Conv2d(256, 256, kernel_size=(3, 3), stride=(1, 1), padding=(1, 1), bias=False)\n",
              "                        (normalization): DetrFrozenBatchNorm2d()\n",
              "                        (activation): ReLU()\n",
              "                      )\n",
              "                      (2): ResNetConvLayer(\n",
              "                        (convolution): Conv2d(256, 1024, kernel_size=(1, 1), stride=(1, 1), bias=False)\n",
              "                        (normalization): DetrFrozenBatchNorm2d()\n",
              "                        (activation): Identity()\n",
              "                      )\n",
              "                    )\n",
              "                    (activation): ReLU()\n",
              "                  )\n",
              "                  (3): ResNetBottleNeckLayer(\n",
              "                    (shortcut): Identity()\n",
              "                    (layer): Sequential(\n",
              "                      (0): ResNetConvLayer(\n",
              "                        (convolution): Conv2d(1024, 256, kernel_size=(1, 1), stride=(1, 1), bias=False)\n",
              "                        (normalization): DetrFrozenBatchNorm2d()\n",
              "                        (activation): ReLU()\n",
              "                      )\n",
              "                      (1): ResNetConvLayer(\n",
              "                        (convolution): Conv2d(256, 256, kernel_size=(3, 3), stride=(1, 1), padding=(1, 1), bias=False)\n",
              "                        (normalization): DetrFrozenBatchNorm2d()\n",
              "                        (activation): ReLU()\n",
              "                      )\n",
              "                      (2): ResNetConvLayer(\n",
              "                        (convolution): Conv2d(256, 1024, kernel_size=(1, 1), stride=(1, 1), bias=False)\n",
              "                        (normalization): DetrFrozenBatchNorm2d()\n",
              "                        (activation): Identity()\n",
              "                      )\n",
              "                    )\n",
              "                    (activation): ReLU()\n",
              "                  )\n",
              "                  (4): ResNetBottleNeckLayer(\n",
              "                    (shortcut): Identity()\n",
              "                    (layer): Sequential(\n",
              "                      (0): ResNetConvLayer(\n",
              "                        (convolution): Conv2d(1024, 256, kernel_size=(1, 1), stride=(1, 1), bias=False)\n",
              "                        (normalization): DetrFrozenBatchNorm2d()\n",
              "                        (activation): ReLU()\n",
              "                      )\n",
              "                      (1): ResNetConvLayer(\n",
              "                        (convolution): Conv2d(256, 256, kernel_size=(3, 3), stride=(1, 1), padding=(1, 1), bias=False)\n",
              "                        (normalization): DetrFrozenBatchNorm2d()\n",
              "                        (activation): ReLU()\n",
              "                      )\n",
              "                      (2): ResNetConvLayer(\n",
              "                        (convolution): Conv2d(256, 1024, kernel_size=(1, 1), stride=(1, 1), bias=False)\n",
              "                        (normalization): DetrFrozenBatchNorm2d()\n",
              "                        (activation): Identity()\n",
              "                      )\n",
              "                    )\n",
              "                    (activation): ReLU()\n",
              "                  )\n",
              "                  (5): ResNetBottleNeckLayer(\n",
              "                    (shortcut): Identity()\n",
              "                    (layer): Sequential(\n",
              "                      (0): ResNetConvLayer(\n",
              "                        (convolution): Conv2d(1024, 256, kernel_size=(1, 1), stride=(1, 1), bias=False)\n",
              "                        (normalization): DetrFrozenBatchNorm2d()\n",
              "                        (activation): ReLU()\n",
              "                      )\n",
              "                      (1): ResNetConvLayer(\n",
              "                        (convolution): Conv2d(256, 256, kernel_size=(3, 3), stride=(1, 1), padding=(1, 1), bias=False)\n",
              "                        (normalization): DetrFrozenBatchNorm2d()\n",
              "                        (activation): ReLU()\n",
              "                      )\n",
              "                      (2): ResNetConvLayer(\n",
              "                        (convolution): Conv2d(256, 1024, kernel_size=(1, 1), stride=(1, 1), bias=False)\n",
              "                        (normalization): DetrFrozenBatchNorm2d()\n",
              "                        (activation): Identity()\n",
              "                      )\n",
              "                    )\n",
              "                    (activation): ReLU()\n",
              "                  )\n",
              "                )\n",
              "              )\n",
              "              (3): ResNetStage(\n",
              "                (layers): Sequential(\n",
              "                  (0): ResNetBottleNeckLayer(\n",
              "                    (shortcut): ResNetShortCut(\n",
              "                      (convolution): Conv2d(1024, 2048, kernel_size=(1, 1), stride=(2, 2), bias=False)\n",
              "                      (normalization): DetrFrozenBatchNorm2d()\n",
              "                    )\n",
              "                    (layer): Sequential(\n",
              "                      (0): ResNetConvLayer(\n",
              "                        (convolution): Conv2d(1024, 512, kernel_size=(1, 1), stride=(1, 1), bias=False)\n",
              "                        (normalization): DetrFrozenBatchNorm2d()\n",
              "                        (activation): ReLU()\n",
              "                      )\n",
              "                      (1): ResNetConvLayer(\n",
              "                        (convolution): Conv2d(512, 512, kernel_size=(3, 3), stride=(2, 2), padding=(1, 1), bias=False)\n",
              "                        (normalization): DetrFrozenBatchNorm2d()\n",
              "                        (activation): ReLU()\n",
              "                      )\n",
              "                      (2): ResNetConvLayer(\n",
              "                        (convolution): Conv2d(512, 2048, kernel_size=(1, 1), stride=(1, 1), bias=False)\n",
              "                        (normalization): DetrFrozenBatchNorm2d()\n",
              "                        (activation): Identity()\n",
              "                      )\n",
              "                    )\n",
              "                    (activation): ReLU()\n",
              "                  )\n",
              "                  (1): ResNetBottleNeckLayer(\n",
              "                    (shortcut): Identity()\n",
              "                    (layer): Sequential(\n",
              "                      (0): ResNetConvLayer(\n",
              "                        (convolution): Conv2d(2048, 512, kernel_size=(1, 1), stride=(1, 1), bias=False)\n",
              "                        (normalization): DetrFrozenBatchNorm2d()\n",
              "                        (activation): ReLU()\n",
              "                      )\n",
              "                      (1): ResNetConvLayer(\n",
              "                        (convolution): Conv2d(512, 512, kernel_size=(3, 3), stride=(1, 1), padding=(1, 1), bias=False)\n",
              "                        (normalization): DetrFrozenBatchNorm2d()\n",
              "                        (activation): ReLU()\n",
              "                      )\n",
              "                      (2): ResNetConvLayer(\n",
              "                        (convolution): Conv2d(512, 2048, kernel_size=(1, 1), stride=(1, 1), bias=False)\n",
              "                        (normalization): DetrFrozenBatchNorm2d()\n",
              "                        (activation): Identity()\n",
              "                      )\n",
              "                    )\n",
              "                    (activation): ReLU()\n",
              "                  )\n",
              "                  (2): ResNetBottleNeckLayer(\n",
              "                    (shortcut): Identity()\n",
              "                    (layer): Sequential(\n",
              "                      (0): ResNetConvLayer(\n",
              "                        (convolution): Conv2d(2048, 512, kernel_size=(1, 1), stride=(1, 1), bias=False)\n",
              "                        (normalization): DetrFrozenBatchNorm2d()\n",
              "                        (activation): ReLU()\n",
              "                      )\n",
              "                      (1): ResNetConvLayer(\n",
              "                        (convolution): Conv2d(512, 512, kernel_size=(3, 3), stride=(1, 1), padding=(1, 1), bias=False)\n",
              "                        (normalization): DetrFrozenBatchNorm2d()\n",
              "                        (activation): ReLU()\n",
              "                      )\n",
              "                      (2): ResNetConvLayer(\n",
              "                        (convolution): Conv2d(512, 2048, kernel_size=(1, 1), stride=(1, 1), bias=False)\n",
              "                        (normalization): DetrFrozenBatchNorm2d()\n",
              "                        (activation): Identity()\n",
              "                      )\n",
              "                    )\n",
              "                    (activation): ReLU()\n",
              "                  )\n",
              "                )\n",
              "              )\n",
              "            )\n",
              "          )\n",
              "        )\n",
              "      )\n",
              "      (position_embedding): DetrSinePositionEmbedding()\n",
              "    )\n",
              "    (input_projection): Conv2d(2048, 256, kernel_size=(1, 1), stride=(1, 1))\n",
              "    (query_position_embeddings): Embedding(100, 256)\n",
              "    (encoder): DetrEncoder(\n",
              "      (layers): ModuleList(\n",
              "        (0-5): 6 x DetrEncoderLayer(\n",
              "          (self_attn): DetrAttention(\n",
              "            (k_proj): Linear(in_features=256, out_features=256, bias=True)\n",
              "            (v_proj): Linear(in_features=256, out_features=256, bias=True)\n",
              "            (q_proj): Linear(in_features=256, out_features=256, bias=True)\n",
              "            (out_proj): Linear(in_features=256, out_features=256, bias=True)\n",
              "          )\n",
              "          (self_attn_layer_norm): LayerNorm((256,), eps=1e-05, elementwise_affine=True)\n",
              "          (activation_fn): ReLU()\n",
              "          (fc1): Linear(in_features=256, out_features=2048, bias=True)\n",
              "          (fc2): Linear(in_features=2048, out_features=256, bias=True)\n",
              "          (final_layer_norm): LayerNorm((256,), eps=1e-05, elementwise_affine=True)\n",
              "        )\n",
              "      )\n",
              "    )\n",
              "    (decoder): DetrDecoder(\n",
              "      (layers): ModuleList(\n",
              "        (0-5): 6 x DetrDecoderLayer(\n",
              "          (self_attn): DetrAttention(\n",
              "            (k_proj): Linear(in_features=256, out_features=256, bias=True)\n",
              "            (v_proj): Linear(in_features=256, out_features=256, bias=True)\n",
              "            (q_proj): Linear(in_features=256, out_features=256, bias=True)\n",
              "            (out_proj): Linear(in_features=256, out_features=256, bias=True)\n",
              "          )\n",
              "          (activation_fn): ReLU()\n",
              "          (self_attn_layer_norm): LayerNorm((256,), eps=1e-05, elementwise_affine=True)\n",
              "          (encoder_attn): DetrAttention(\n",
              "            (k_proj): Linear(in_features=256, out_features=256, bias=True)\n",
              "            (v_proj): Linear(in_features=256, out_features=256, bias=True)\n",
              "            (q_proj): Linear(in_features=256, out_features=256, bias=True)\n",
              "            (out_proj): Linear(in_features=256, out_features=256, bias=True)\n",
              "          )\n",
              "          (encoder_attn_layer_norm): LayerNorm((256,), eps=1e-05, elementwise_affine=True)\n",
              "          (fc1): Linear(in_features=256, out_features=2048, bias=True)\n",
              "          (fc2): Linear(in_features=2048, out_features=256, bias=True)\n",
              "          (final_layer_norm): LayerNorm((256,), eps=1e-05, elementwise_affine=True)\n",
              "        )\n",
              "      )\n",
              "      (layernorm): LayerNorm((256,), eps=1e-05, elementwise_affine=True)\n",
              "    )\n",
              "  )\n",
              "  (class_labels_classifier): Linear(in_features=256, out_features=92, bias=True)\n",
              "  (bbox_predictor): DetrMLPPredictionHead(\n",
              "    (layers): ModuleList(\n",
              "      (0-1): 2 x Linear(in_features=256, out_features=256, bias=True)\n",
              "      (2): Linear(in_features=256, out_features=4, bias=True)\n",
              "    )\n",
              "  )\n",
              ")"
            ]
          },
          "metadata": {},
          "execution_count": 196
        }
      ]
    },
    {
      "cell_type": "code",
      "source": [
        "replace_linear_with_target_and_quantize(model,\n",
        "                                        W8A16LinearLayer,\n",
        "               [\"0\", \"1\", \"2\", \"class_labels_classifier\"])"
      ],
      "metadata": {
        "id": "h-HFjwPoWW54"
      },
      "execution_count": 197,
      "outputs": []
    },
    {
      "cell_type": "code",
      "source": [
        "## Model after quantization\n",
        "model"
      ],
      "metadata": {
        "colab": {
          "base_uri": "https://localhost:8080/"
        },
        "id": "g8IyvcsXXSkX",
        "outputId": "fe8c302e-6327-43e2-95e8-46bddf5bcb1d"
      },
      "execution_count": 198,
      "outputs": [
        {
          "output_type": "execute_result",
          "data": {
            "text/plain": [
              "DetrForObjectDetection(\n",
              "  (model): DetrModel(\n",
              "    (backbone): DetrConvModel(\n",
              "      (conv_encoder): DetrConvEncoder(\n",
              "        (model): ResNetBackbone(\n",
              "          (embedder): ResNetEmbeddings(\n",
              "            (embedder): ResNetConvLayer(\n",
              "              (convolution): Conv2d(3, 64, kernel_size=(7, 7), stride=(2, 2), padding=(3, 3), bias=False)\n",
              "              (normalization): DetrFrozenBatchNorm2d()\n",
              "              (activation): ReLU()\n",
              "            )\n",
              "            (pooler): MaxPool2d(kernel_size=3, stride=2, padding=1, dilation=1, ceil_mode=False)\n",
              "          )\n",
              "          (encoder): ResNetEncoder(\n",
              "            (stages): ModuleList(\n",
              "              (0): ResNetStage(\n",
              "                (layers): Sequential(\n",
              "                  (0): ResNetBottleNeckLayer(\n",
              "                    (shortcut): ResNetShortCut(\n",
              "                      (convolution): Conv2d(64, 256, kernel_size=(1, 1), stride=(1, 1), bias=False)\n",
              "                      (normalization): DetrFrozenBatchNorm2d()\n",
              "                    )\n",
              "                    (layer): Sequential(\n",
              "                      (0): ResNetConvLayer(\n",
              "                        (convolution): Conv2d(64, 64, kernel_size=(1, 1), stride=(1, 1), bias=False)\n",
              "                        (normalization): DetrFrozenBatchNorm2d()\n",
              "                        (activation): ReLU()\n",
              "                      )\n",
              "                      (1): ResNetConvLayer(\n",
              "                        (convolution): Conv2d(64, 64, kernel_size=(3, 3), stride=(1, 1), padding=(1, 1), bias=False)\n",
              "                        (normalization): DetrFrozenBatchNorm2d()\n",
              "                        (activation): ReLU()\n",
              "                      )\n",
              "                      (2): ResNetConvLayer(\n",
              "                        (convolution): Conv2d(64, 256, kernel_size=(1, 1), stride=(1, 1), bias=False)\n",
              "                        (normalization): DetrFrozenBatchNorm2d()\n",
              "                        (activation): Identity()\n",
              "                      )\n",
              "                    )\n",
              "                    (activation): ReLU()\n",
              "                  )\n",
              "                  (1): ResNetBottleNeckLayer(\n",
              "                    (shortcut): Identity()\n",
              "                    (layer): Sequential(\n",
              "                      (0): ResNetConvLayer(\n",
              "                        (convolution): Conv2d(256, 64, kernel_size=(1, 1), stride=(1, 1), bias=False)\n",
              "                        (normalization): DetrFrozenBatchNorm2d()\n",
              "                        (activation): ReLU()\n",
              "                      )\n",
              "                      (1): ResNetConvLayer(\n",
              "                        (convolution): Conv2d(64, 64, kernel_size=(3, 3), stride=(1, 1), padding=(1, 1), bias=False)\n",
              "                        (normalization): DetrFrozenBatchNorm2d()\n",
              "                        (activation): ReLU()\n",
              "                      )\n",
              "                      (2): ResNetConvLayer(\n",
              "                        (convolution): Conv2d(64, 256, kernel_size=(1, 1), stride=(1, 1), bias=False)\n",
              "                        (normalization): DetrFrozenBatchNorm2d()\n",
              "                        (activation): Identity()\n",
              "                      )\n",
              "                    )\n",
              "                    (activation): ReLU()\n",
              "                  )\n",
              "                  (2): ResNetBottleNeckLayer(\n",
              "                    (shortcut): Identity()\n",
              "                    (layer): Sequential(\n",
              "                      (0): ResNetConvLayer(\n",
              "                        (convolution): Conv2d(256, 64, kernel_size=(1, 1), stride=(1, 1), bias=False)\n",
              "                        (normalization): DetrFrozenBatchNorm2d()\n",
              "                        (activation): ReLU()\n",
              "                      )\n",
              "                      (1): ResNetConvLayer(\n",
              "                        (convolution): Conv2d(64, 64, kernel_size=(3, 3), stride=(1, 1), padding=(1, 1), bias=False)\n",
              "                        (normalization): DetrFrozenBatchNorm2d()\n",
              "                        (activation): ReLU()\n",
              "                      )\n",
              "                      (2): ResNetConvLayer(\n",
              "                        (convolution): Conv2d(64, 256, kernel_size=(1, 1), stride=(1, 1), bias=False)\n",
              "                        (normalization): DetrFrozenBatchNorm2d()\n",
              "                        (activation): Identity()\n",
              "                      )\n",
              "                    )\n",
              "                    (activation): ReLU()\n",
              "                  )\n",
              "                )\n",
              "              )\n",
              "              (1): ResNetStage(\n",
              "                (layers): Sequential(\n",
              "                  (0): ResNetBottleNeckLayer(\n",
              "                    (shortcut): ResNetShortCut(\n",
              "                      (convolution): Conv2d(256, 512, kernel_size=(1, 1), stride=(2, 2), bias=False)\n",
              "                      (normalization): DetrFrozenBatchNorm2d()\n",
              "                    )\n",
              "                    (layer): Sequential(\n",
              "                      (0): ResNetConvLayer(\n",
              "                        (convolution): Conv2d(256, 128, kernel_size=(1, 1), stride=(1, 1), bias=False)\n",
              "                        (normalization): DetrFrozenBatchNorm2d()\n",
              "                        (activation): ReLU()\n",
              "                      )\n",
              "                      (1): ResNetConvLayer(\n",
              "                        (convolution): Conv2d(128, 128, kernel_size=(3, 3), stride=(2, 2), padding=(1, 1), bias=False)\n",
              "                        (normalization): DetrFrozenBatchNorm2d()\n",
              "                        (activation): ReLU()\n",
              "                      )\n",
              "                      (2): ResNetConvLayer(\n",
              "                        (convolution): Conv2d(128, 512, kernel_size=(1, 1), stride=(1, 1), bias=False)\n",
              "                        (normalization): DetrFrozenBatchNorm2d()\n",
              "                        (activation): Identity()\n",
              "                      )\n",
              "                    )\n",
              "                    (activation): ReLU()\n",
              "                  )\n",
              "                  (1): ResNetBottleNeckLayer(\n",
              "                    (shortcut): Identity()\n",
              "                    (layer): Sequential(\n",
              "                      (0): ResNetConvLayer(\n",
              "                        (convolution): Conv2d(512, 128, kernel_size=(1, 1), stride=(1, 1), bias=False)\n",
              "                        (normalization): DetrFrozenBatchNorm2d()\n",
              "                        (activation): ReLU()\n",
              "                      )\n",
              "                      (1): ResNetConvLayer(\n",
              "                        (convolution): Conv2d(128, 128, kernel_size=(3, 3), stride=(1, 1), padding=(1, 1), bias=False)\n",
              "                        (normalization): DetrFrozenBatchNorm2d()\n",
              "                        (activation): ReLU()\n",
              "                      )\n",
              "                      (2): ResNetConvLayer(\n",
              "                        (convolution): Conv2d(128, 512, kernel_size=(1, 1), stride=(1, 1), bias=False)\n",
              "                        (normalization): DetrFrozenBatchNorm2d()\n",
              "                        (activation): Identity()\n",
              "                      )\n",
              "                    )\n",
              "                    (activation): ReLU()\n",
              "                  )\n",
              "                  (2): ResNetBottleNeckLayer(\n",
              "                    (shortcut): Identity()\n",
              "                    (layer): Sequential(\n",
              "                      (0): ResNetConvLayer(\n",
              "                        (convolution): Conv2d(512, 128, kernel_size=(1, 1), stride=(1, 1), bias=False)\n",
              "                        (normalization): DetrFrozenBatchNorm2d()\n",
              "                        (activation): ReLU()\n",
              "                      )\n",
              "                      (1): ResNetConvLayer(\n",
              "                        (convolution): Conv2d(128, 128, kernel_size=(3, 3), stride=(1, 1), padding=(1, 1), bias=False)\n",
              "                        (normalization): DetrFrozenBatchNorm2d()\n",
              "                        (activation): ReLU()\n",
              "                      )\n",
              "                      (2): ResNetConvLayer(\n",
              "                        (convolution): Conv2d(128, 512, kernel_size=(1, 1), stride=(1, 1), bias=False)\n",
              "                        (normalization): DetrFrozenBatchNorm2d()\n",
              "                        (activation): Identity()\n",
              "                      )\n",
              "                    )\n",
              "                    (activation): ReLU()\n",
              "                  )\n",
              "                  (3): ResNetBottleNeckLayer(\n",
              "                    (shortcut): Identity()\n",
              "                    (layer): Sequential(\n",
              "                      (0): ResNetConvLayer(\n",
              "                        (convolution): Conv2d(512, 128, kernel_size=(1, 1), stride=(1, 1), bias=False)\n",
              "                        (normalization): DetrFrozenBatchNorm2d()\n",
              "                        (activation): ReLU()\n",
              "                      )\n",
              "                      (1): ResNetConvLayer(\n",
              "                        (convolution): Conv2d(128, 128, kernel_size=(3, 3), stride=(1, 1), padding=(1, 1), bias=False)\n",
              "                        (normalization): DetrFrozenBatchNorm2d()\n",
              "                        (activation): ReLU()\n",
              "                      )\n",
              "                      (2): ResNetConvLayer(\n",
              "                        (convolution): Conv2d(128, 512, kernel_size=(1, 1), stride=(1, 1), bias=False)\n",
              "                        (normalization): DetrFrozenBatchNorm2d()\n",
              "                        (activation): Identity()\n",
              "                      )\n",
              "                    )\n",
              "                    (activation): ReLU()\n",
              "                  )\n",
              "                )\n",
              "              )\n",
              "              (2): ResNetStage(\n",
              "                (layers): Sequential(\n",
              "                  (0): ResNetBottleNeckLayer(\n",
              "                    (shortcut): ResNetShortCut(\n",
              "                      (convolution): Conv2d(512, 1024, kernel_size=(1, 1), stride=(2, 2), bias=False)\n",
              "                      (normalization): DetrFrozenBatchNorm2d()\n",
              "                    )\n",
              "                    (layer): Sequential(\n",
              "                      (0): ResNetConvLayer(\n",
              "                        (convolution): Conv2d(512, 256, kernel_size=(1, 1), stride=(1, 1), bias=False)\n",
              "                        (normalization): DetrFrozenBatchNorm2d()\n",
              "                        (activation): ReLU()\n",
              "                      )\n",
              "                      (1): ResNetConvLayer(\n",
              "                        (convolution): Conv2d(256, 256, kernel_size=(3, 3), stride=(2, 2), padding=(1, 1), bias=False)\n",
              "                        (normalization): DetrFrozenBatchNorm2d()\n",
              "                        (activation): ReLU()\n",
              "                      )\n",
              "                      (2): ResNetConvLayer(\n",
              "                        (convolution): Conv2d(256, 1024, kernel_size=(1, 1), stride=(1, 1), bias=False)\n",
              "                        (normalization): DetrFrozenBatchNorm2d()\n",
              "                        (activation): Identity()\n",
              "                      )\n",
              "                    )\n",
              "                    (activation): ReLU()\n",
              "                  )\n",
              "                  (1): ResNetBottleNeckLayer(\n",
              "                    (shortcut): Identity()\n",
              "                    (layer): Sequential(\n",
              "                      (0): ResNetConvLayer(\n",
              "                        (convolution): Conv2d(1024, 256, kernel_size=(1, 1), stride=(1, 1), bias=False)\n",
              "                        (normalization): DetrFrozenBatchNorm2d()\n",
              "                        (activation): ReLU()\n",
              "                      )\n",
              "                      (1): ResNetConvLayer(\n",
              "                        (convolution): Conv2d(256, 256, kernel_size=(3, 3), stride=(1, 1), padding=(1, 1), bias=False)\n",
              "                        (normalization): DetrFrozenBatchNorm2d()\n",
              "                        (activation): ReLU()\n",
              "                      )\n",
              "                      (2): ResNetConvLayer(\n",
              "                        (convolution): Conv2d(256, 1024, kernel_size=(1, 1), stride=(1, 1), bias=False)\n",
              "                        (normalization): DetrFrozenBatchNorm2d()\n",
              "                        (activation): Identity()\n",
              "                      )\n",
              "                    )\n",
              "                    (activation): ReLU()\n",
              "                  )\n",
              "                  (2): ResNetBottleNeckLayer(\n",
              "                    (shortcut): Identity()\n",
              "                    (layer): Sequential(\n",
              "                      (0): ResNetConvLayer(\n",
              "                        (convolution): Conv2d(1024, 256, kernel_size=(1, 1), stride=(1, 1), bias=False)\n",
              "                        (normalization): DetrFrozenBatchNorm2d()\n",
              "                        (activation): ReLU()\n",
              "                      )\n",
              "                      (1): ResNetConvLayer(\n",
              "                        (convolution): Conv2d(256, 256, kernel_size=(3, 3), stride=(1, 1), padding=(1, 1), bias=False)\n",
              "                        (normalization): DetrFrozenBatchNorm2d()\n",
              "                        (activation): ReLU()\n",
              "                      )\n",
              "                      (2): ResNetConvLayer(\n",
              "                        (convolution): Conv2d(256, 1024, kernel_size=(1, 1), stride=(1, 1), bias=False)\n",
              "                        (normalization): DetrFrozenBatchNorm2d()\n",
              "                        (activation): Identity()\n",
              "                      )\n",
              "                    )\n",
              "                    (activation): ReLU()\n",
              "                  )\n",
              "                  (3): ResNetBottleNeckLayer(\n",
              "                    (shortcut): Identity()\n",
              "                    (layer): Sequential(\n",
              "                      (0): ResNetConvLayer(\n",
              "                        (convolution): Conv2d(1024, 256, kernel_size=(1, 1), stride=(1, 1), bias=False)\n",
              "                        (normalization): DetrFrozenBatchNorm2d()\n",
              "                        (activation): ReLU()\n",
              "                      )\n",
              "                      (1): ResNetConvLayer(\n",
              "                        (convolution): Conv2d(256, 256, kernel_size=(3, 3), stride=(1, 1), padding=(1, 1), bias=False)\n",
              "                        (normalization): DetrFrozenBatchNorm2d()\n",
              "                        (activation): ReLU()\n",
              "                      )\n",
              "                      (2): ResNetConvLayer(\n",
              "                        (convolution): Conv2d(256, 1024, kernel_size=(1, 1), stride=(1, 1), bias=False)\n",
              "                        (normalization): DetrFrozenBatchNorm2d()\n",
              "                        (activation): Identity()\n",
              "                      )\n",
              "                    )\n",
              "                    (activation): ReLU()\n",
              "                  )\n",
              "                  (4): ResNetBottleNeckLayer(\n",
              "                    (shortcut): Identity()\n",
              "                    (layer): Sequential(\n",
              "                      (0): ResNetConvLayer(\n",
              "                        (convolution): Conv2d(1024, 256, kernel_size=(1, 1), stride=(1, 1), bias=False)\n",
              "                        (normalization): DetrFrozenBatchNorm2d()\n",
              "                        (activation): ReLU()\n",
              "                      )\n",
              "                      (1): ResNetConvLayer(\n",
              "                        (convolution): Conv2d(256, 256, kernel_size=(3, 3), stride=(1, 1), padding=(1, 1), bias=False)\n",
              "                        (normalization): DetrFrozenBatchNorm2d()\n",
              "                        (activation): ReLU()\n",
              "                      )\n",
              "                      (2): ResNetConvLayer(\n",
              "                        (convolution): Conv2d(256, 1024, kernel_size=(1, 1), stride=(1, 1), bias=False)\n",
              "                        (normalization): DetrFrozenBatchNorm2d()\n",
              "                        (activation): Identity()\n",
              "                      )\n",
              "                    )\n",
              "                    (activation): ReLU()\n",
              "                  )\n",
              "                  (5): ResNetBottleNeckLayer(\n",
              "                    (shortcut): Identity()\n",
              "                    (layer): Sequential(\n",
              "                      (0): ResNetConvLayer(\n",
              "                        (convolution): Conv2d(1024, 256, kernel_size=(1, 1), stride=(1, 1), bias=False)\n",
              "                        (normalization): DetrFrozenBatchNorm2d()\n",
              "                        (activation): ReLU()\n",
              "                      )\n",
              "                      (1): ResNetConvLayer(\n",
              "                        (convolution): Conv2d(256, 256, kernel_size=(3, 3), stride=(1, 1), padding=(1, 1), bias=False)\n",
              "                        (normalization): DetrFrozenBatchNorm2d()\n",
              "                        (activation): ReLU()\n",
              "                      )\n",
              "                      (2): ResNetConvLayer(\n",
              "                        (convolution): Conv2d(256, 1024, kernel_size=(1, 1), stride=(1, 1), bias=False)\n",
              "                        (normalization): DetrFrozenBatchNorm2d()\n",
              "                        (activation): Identity()\n",
              "                      )\n",
              "                    )\n",
              "                    (activation): ReLU()\n",
              "                  )\n",
              "                )\n",
              "              )\n",
              "              (3): ResNetStage(\n",
              "                (layers): Sequential(\n",
              "                  (0): ResNetBottleNeckLayer(\n",
              "                    (shortcut): ResNetShortCut(\n",
              "                      (convolution): Conv2d(1024, 2048, kernel_size=(1, 1), stride=(2, 2), bias=False)\n",
              "                      (normalization): DetrFrozenBatchNorm2d()\n",
              "                    )\n",
              "                    (layer): Sequential(\n",
              "                      (0): ResNetConvLayer(\n",
              "                        (convolution): Conv2d(1024, 512, kernel_size=(1, 1), stride=(1, 1), bias=False)\n",
              "                        (normalization): DetrFrozenBatchNorm2d()\n",
              "                        (activation): ReLU()\n",
              "                      )\n",
              "                      (1): ResNetConvLayer(\n",
              "                        (convolution): Conv2d(512, 512, kernel_size=(3, 3), stride=(2, 2), padding=(1, 1), bias=False)\n",
              "                        (normalization): DetrFrozenBatchNorm2d()\n",
              "                        (activation): ReLU()\n",
              "                      )\n",
              "                      (2): ResNetConvLayer(\n",
              "                        (convolution): Conv2d(512, 2048, kernel_size=(1, 1), stride=(1, 1), bias=False)\n",
              "                        (normalization): DetrFrozenBatchNorm2d()\n",
              "                        (activation): Identity()\n",
              "                      )\n",
              "                    )\n",
              "                    (activation): ReLU()\n",
              "                  )\n",
              "                  (1): ResNetBottleNeckLayer(\n",
              "                    (shortcut): Identity()\n",
              "                    (layer): Sequential(\n",
              "                      (0): ResNetConvLayer(\n",
              "                        (convolution): Conv2d(2048, 512, kernel_size=(1, 1), stride=(1, 1), bias=False)\n",
              "                        (normalization): DetrFrozenBatchNorm2d()\n",
              "                        (activation): ReLU()\n",
              "                      )\n",
              "                      (1): ResNetConvLayer(\n",
              "                        (convolution): Conv2d(512, 512, kernel_size=(3, 3), stride=(1, 1), padding=(1, 1), bias=False)\n",
              "                        (normalization): DetrFrozenBatchNorm2d()\n",
              "                        (activation): ReLU()\n",
              "                      )\n",
              "                      (2): ResNetConvLayer(\n",
              "                        (convolution): Conv2d(512, 2048, kernel_size=(1, 1), stride=(1, 1), bias=False)\n",
              "                        (normalization): DetrFrozenBatchNorm2d()\n",
              "                        (activation): Identity()\n",
              "                      )\n",
              "                    )\n",
              "                    (activation): ReLU()\n",
              "                  )\n",
              "                  (2): ResNetBottleNeckLayer(\n",
              "                    (shortcut): Identity()\n",
              "                    (layer): Sequential(\n",
              "                      (0): ResNetConvLayer(\n",
              "                        (convolution): Conv2d(2048, 512, kernel_size=(1, 1), stride=(1, 1), bias=False)\n",
              "                        (normalization): DetrFrozenBatchNorm2d()\n",
              "                        (activation): ReLU()\n",
              "                      )\n",
              "                      (1): ResNetConvLayer(\n",
              "                        (convolution): Conv2d(512, 512, kernel_size=(3, 3), stride=(1, 1), padding=(1, 1), bias=False)\n",
              "                        (normalization): DetrFrozenBatchNorm2d()\n",
              "                        (activation): ReLU()\n",
              "                      )\n",
              "                      (2): ResNetConvLayer(\n",
              "                        (convolution): Conv2d(512, 2048, kernel_size=(1, 1), stride=(1, 1), bias=False)\n",
              "                        (normalization): DetrFrozenBatchNorm2d()\n",
              "                        (activation): Identity()\n",
              "                      )\n",
              "                    )\n",
              "                    (activation): ReLU()\n",
              "                  )\n",
              "                )\n",
              "              )\n",
              "            )\n",
              "          )\n",
              "        )\n",
              "      )\n",
              "      (position_embedding): DetrSinePositionEmbedding()\n",
              "    )\n",
              "    (input_projection): Conv2d(2048, 256, kernel_size=(1, 1), stride=(1, 1))\n",
              "    (query_position_embeddings): Embedding(100, 256)\n",
              "    (encoder): DetrEncoder(\n",
              "      (layers): ModuleList(\n",
              "        (0-5): 6 x DetrEncoderLayer(\n",
              "          (self_attn): DetrAttention(\n",
              "            (k_proj): W8A16LinearLayer()\n",
              "            (v_proj): W8A16LinearLayer()\n",
              "            (q_proj): W8A16LinearLayer()\n",
              "            (out_proj): W8A16LinearLayer()\n",
              "          )\n",
              "          (self_attn_layer_norm): LayerNorm((256,), eps=1e-05, elementwise_affine=True)\n",
              "          (activation_fn): ReLU()\n",
              "          (fc1): W8A16LinearLayer()\n",
              "          (fc2): W8A16LinearLayer()\n",
              "          (final_layer_norm): LayerNorm((256,), eps=1e-05, elementwise_affine=True)\n",
              "        )\n",
              "      )\n",
              "    )\n",
              "    (decoder): DetrDecoder(\n",
              "      (layers): ModuleList(\n",
              "        (0-5): 6 x DetrDecoderLayer(\n",
              "          (self_attn): DetrAttention(\n",
              "            (k_proj): W8A16LinearLayer()\n",
              "            (v_proj): W8A16LinearLayer()\n",
              "            (q_proj): W8A16LinearLayer()\n",
              "            (out_proj): W8A16LinearLayer()\n",
              "          )\n",
              "          (activation_fn): ReLU()\n",
              "          (self_attn_layer_norm): LayerNorm((256,), eps=1e-05, elementwise_affine=True)\n",
              "          (encoder_attn): DetrAttention(\n",
              "            (k_proj): W8A16LinearLayer()\n",
              "            (v_proj): W8A16LinearLayer()\n",
              "            (q_proj): W8A16LinearLayer()\n",
              "            (out_proj): W8A16LinearLayer()\n",
              "          )\n",
              "          (encoder_attn_layer_norm): LayerNorm((256,), eps=1e-05, elementwise_affine=True)\n",
              "          (fc1): W8A16LinearLayer()\n",
              "          (fc2): W8A16LinearLayer()\n",
              "          (final_layer_norm): LayerNorm((256,), eps=1e-05, elementwise_affine=True)\n",
              "        )\n",
              "      )\n",
              "      (layernorm): LayerNorm((256,), eps=1e-05, elementwise_affine=True)\n",
              "    )\n",
              "  )\n",
              "  (class_labels_classifier): Linear(in_features=256, out_features=92, bias=True)\n",
              "  (bbox_predictor): DetrMLPPredictionHead(\n",
              "    (layers): ModuleList(\n",
              "      (0-1): 2 x Linear(in_features=256, out_features=256, bias=True)\n",
              "      (2): Linear(in_features=256, out_features=4, bias=True)\n",
              "    )\n",
              "  )\n",
              ")"
            ]
          },
          "metadata": {},
          "execution_count": 198
        }
      ]
    },
    {
      "cell_type": "code",
      "source": [
        "new_footprint = model.get_memory_footprint()"
      ],
      "metadata": {
        "id": "sAbfWLZ6XWL7"
      },
      "execution_count": 199,
      "outputs": []
    },
    {
      "cell_type": "code",
      "source": [
        "print(\"Footprint of the model in MBs: \",\n",
        "      new_footprint/1e+6)"
      ],
      "metadata": {
        "colab": {
          "base_uri": "https://localhost:8080/"
        },
        "id": "450aiPLLXiZ2",
        "outputId": "69de1147-6352-4350-ffd8-1840279689e4"
      },
      "execution_count": 200,
      "outputs": [
        {
          "output_type": "stream",
          "name": "stdout",
          "text": [
            "Footprint of the model in MBs:  114.80384\n"
          ]
        }
      ]
    },
    {
      "cell_type": "code",
      "source": [
        "## Memory saved\n",
        "print(\"Memory saved in MBs: \",\n",
        "      (previous_memory_footprint - new_footprint)/1e+6)"
      ],
      "metadata": {
        "colab": {
          "base_uri": "https://localhost:8080/"
        },
        "id": "eu6-31JrXmLm",
        "outputId": "cdb3e488-dac4-4597-f123-acfc8709f6c1"
      },
      "execution_count": 201,
      "outputs": [
        {
          "output_type": "stream",
          "name": "stdout",
          "text": [
            "Memory saved in MBs:  51.720192\n"
          ]
        }
      ]
    },
    {
      "cell_type": "code",
      "source": [
        "print(\"Percentage of memory optimized: \",\n",
        "      (previous_memory_footprint - new_footprint) / previous_memory_footprint * 100, \"%\")"
      ],
      "metadata": {
        "colab": {
          "base_uri": "https://localhost:8080/"
        },
        "id": "eoCym3DZeS2Z",
        "outputId": "63af9e7f-2b78-48f9-de12-45cc525d52bd"
      },
      "execution_count": 202,
      "outputs": [
        {
          "output_type": "stream",
          "name": "stdout",
          "text": [
            "Percentage of memory optimized:  31.0586954800614 %\n"
          ]
        }
      ]
    },
    {
      "cell_type": "code",
      "source": [],
      "metadata": {
        "id": "hqMeV0oQeY5y"
      },
      "execution_count": null,
      "outputs": []
    }
  ]
}